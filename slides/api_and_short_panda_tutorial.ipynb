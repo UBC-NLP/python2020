{
 "cells": [
  {
   "cell_type": "markdown",
   "metadata": {
    "slideshow": {
     "slide_type": "slide"
    }
   },
   "source": [
    "# api_and_short_panda_tutorial"
   ]
  },
  {
   "cell_type": "code",
   "execution_count": 6,
   "metadata": {
    "scrolled": false,
    "slideshow": {
     "slide_type": "slide"
    }
   },
   "outputs": [
    {
     "name": "stdout",
     "output_type": "stream",
     "text": [
      "\n",
      "Attempting to fetch query 'lentil soup':\n",
      "\n",
      "thomps_p\n",
      "aliziajo\n",
      "RebeccaforMN62B\n",
      "WilmaHamby\n",
      "AlienHere2Love\n",
      "sorayabeheshti\n",
      "hal12362\n",
      "KeeganKraemer\n",
      "pandaaze\n",
      "the_dailyrecipe\n",
      "redgoldrush\n",
      "western_rice_bc\n",
      "SassenachSJ\n",
      "thepastryoven\n",
      "TheMerryMonk518\n",
      "akkaashgoel\n",
      "healthy_dinners\n",
      "tiffanylynnhoy\n",
      "PARDONMYHASHTAG\n",
      "La_Luti\n",
      "FarmersgirlCook\n",
      "crecreturs\n",
      "healingtomato2\n",
      "jomoskwiak\n",
      "redgoldrush\n",
      "FatChickinLA\n",
      "COWDOWNTOWN\n",
      "iveyjanette_207\n",
      "pastiebap10\n",
      "FoodChannel\n",
      "simplyquinoa\n",
      "1071Chris\n",
      "87Retweet\n",
      "FabFood4All\n",
      "helenarecipes\n",
      "DonnybrookVlg\n",
      "Sunshinecoach\n",
      "plaidfuzz\n",
      "plaidfuzz\n",
      "PetroNeagu\n",
      "21flavofsplendr\n",
      "CerebralMarv\n",
      "dinutz13\n",
      "MommasBabyPhat\n",
      "sandhyaskitchen\n",
      "LifestyleMkts\n",
      "chrisharihar\n",
      "SabotagedFool2\n",
      "healingtomato2\n",
      "erinm_x\n",
      "theB0SNIAN\n",
      "onlineandnice\n",
      "musthavemom\n",
      "FATech_Ed\n",
      "Mama_Theresas\n",
      "p00fter\n",
      "UnusualSidekick\n",
      "winsome253\n",
      "ronfeir\n",
      "nugrocery\n",
      "cakewhiz\n",
      "palousebrand\n",
      "AsilYassine\n",
      "ICanCookThat\n",
      "JohnSprattUK\n",
      "xrciznfrugality\n",
      "Choclette8\n",
      "sophie19621\n",
      "K4Kats\n",
      "GirlHeartFood\n",
      "LakefieldPantry\n",
      "raydoeksen\n",
      "CanalBankCafe\n",
      "BoulevardRD\n",
      "SavoryBites0411\n",
      "doak_liam\n",
      "Streetzine\n",
      "PARDONMYHASHTAG\n",
      "HakkaBakkaRolls\n",
      "ChloeMcColl\n",
      "levantstfood\n",
      "KirkhillPS\n",
      "ms_poni\n",
      "FlourishOrDie\n",
      "angeInightmare\n",
      "VeganVictoria_M\n",
      "homeitaliancook\n",
      "livenaturalnow\n",
      "miijidaa\n",
      "149EatStCafe\n",
      "AlexMoosePerez\n",
      "thesweetpotato\n",
      "soupssandwiches\n",
      "soupssandwiches\n",
      "twopurplefigs\n",
      "BuyThisCookThat\n",
      "Sephardic_in_DC\n",
      "CroasdaileCC\n",
      "infinitebuffalo\n",
      "BlackSeedHealth\n"
     ]
    }
   ],
   "source": [
    "#!/usr/bin/env python\n",
    "# -*- coding: utf-8 -*-\n",
    "import tweepy\n",
    "import argparse\n",
    "import codecs\n",
    "import time\n",
    "import sys\n",
    "import os\n",
    "from IPython.display import clear_output\n",
    "\n",
    "\"\"\"\n",
    "The API class provides access to the entire twitter RESTful API methods. \n",
    "Each method can accept various parameters and return responses. \n",
    "For more information about these methods please refer to API Reference.\n",
    "http://docs.tweepy.org/en/latest/getting_started.html\n",
    "Authentication Tutorial: http://docs.tweepy.org/en/latest/auth_tutorial.html#auth-tutorial\n",
    "\"\"\"\n",
    "# Acquire and use your API_KEY and API_SECRET below since the ones in the following won't work.\n",
    "# They are just placeholders:\n",
    "auth = tweepy.AppAuthHandler(\"P220Bv9EHY4gOKPOq3w6wCm43\", \"uLk4cxqUbNuBaFShMgvc6EXFTv9rAyreRUE5Ed2XysCHYHL8wy\")\n",
    "api = tweepy.API(auth, wait_on_rate_limit=True,\n",
    "                   wait_on_rate_limit_notify=True)\n",
    "if (not api):\n",
    "    print (\"Can't Authenticate\")\n",
    "    sys.exit(-1)\n",
    "    \n",
    "def twitter_miner(query): \n",
    "    try:\n",
    "        newTweets=api.search(q=query, lang=\"en\", count=100)\n",
    "        for tweet in newTweets:\n",
    "            clean_tweet_text=(tweet.text).replace('\\n', ' ').encode('utf8')\n",
    "            sn=tweet.user.screen_name\n",
    "            #n=tweet.user.name\n",
    "            #print(clean_tweet_text)\n",
    "            print(sn)\n",
    "            #print(n)\n",
    "    except tweepy.TweepError as e:\n",
    "        print(\"some error : \" + str(e))\n",
    "        print(\"retrying in 20 seconds\")\n",
    "        time.sleep(20)\n",
    "\n",
    "if __name__ == \"__main__\":\n",
    "    seeds=[\"lentil soup\"]\n",
    "    for seed in seeds:\n",
    "        print(\"\\nAttempting to fetch query '{0}':\\n\".format(seed))\n",
    "        twitter_miner(seed)"
   ]
  },
  {
   "cell_type": "code",
   "execution_count": null,
   "metadata": {
    "collapsed": true
   },
   "outputs": [],
   "source": []
  },
  {
   "cell_type": "code",
   "execution_count": null,
   "metadata": {
    "collapsed": true
   },
   "outputs": [],
   "source": []
  },
  {
   "cell_type": "code",
   "execution_count": null,
   "metadata": {
    "collapsed": true
   },
   "outputs": [],
   "source": []
  },
  {
   "cell_type": "code",
   "execution_count": 33,
   "metadata": {
    "collapsed": true,
    "slideshow": {
     "slide_type": "slide"
    }
   },
   "outputs": [],
   "source": [
    "import statsmodels.api as sm\n",
    "import pandas as pd\n",
    "import matplotlib.pyplot as plt\n",
    "from patsy import dmatrices\n",
    "from random import shuffle, randint, sample\n",
    "import seaborn as sns\n",
    "import numpy as np\n",
    "%matplotlib inline\n",
    "\n",
    "bc_ht = pd.read_csv('bc_gdp_tech.csv', delimiter=',', header=0)\n",
    "#----------------------------------------"
   ]
  },
  {
   "cell_type": "code",
   "execution_count": 34,
   "metadata": {
    "slideshow": {
     "slide_type": "slide"
    }
   },
   "outputs": [
    {
     "data": {
      "text/html": [
       "<div>\n",
       "<style scoped>\n",
       "    .dataframe tbody tr th:only-of-type {\n",
       "        vertical-align: middle;\n",
       "    }\n",
       "\n",
       "    .dataframe tbody tr th {\n",
       "        vertical-align: top;\n",
       "    }\n",
       "\n",
       "    .dataframe thead th {\n",
       "        text-align: right;\n",
       "    }\n",
       "</style>\n",
       "<table border=\"1\" class=\"dataframe\">\n",
       "  <thead>\n",
       "    <tr style=\"text-align: right;\">\n",
       "      <th></th>\n",
       "      <th>year</th>\n",
       "      <th>ht1</th>\n",
       "      <th>ht2</th>\n",
       "      <th>employment</th>\n",
       "    </tr>\n",
       "  </thead>\n",
       "  <tbody>\n",
       "    <tr>\n",
       "      <th>0</th>\n",
       "      <td>1997</td>\n",
       "      <td>6096</td>\n",
       "      <td>6401</td>\n",
       "      <td>57880</td>\n",
       "    </tr>\n",
       "    <tr>\n",
       "      <th>1</th>\n",
       "      <td>1998</td>\n",
       "      <td>6665</td>\n",
       "      <td>6903</td>\n",
       "      <td>57640</td>\n",
       "    </tr>\n",
       "    <tr>\n",
       "      <th>2</th>\n",
       "      <td>1999</td>\n",
       "      <td>7069</td>\n",
       "      <td>6884</td>\n",
       "      <td>63580</td>\n",
       "    </tr>\n",
       "    <tr>\n",
       "      <th>3</th>\n",
       "      <td>2000</td>\n",
       "      <td>8254</td>\n",
       "      <td>7746</td>\n",
       "      <td>68120</td>\n",
       "    </tr>\n",
       "    <tr>\n",
       "      <th>4</th>\n",
       "      <td>2001</td>\n",
       "      <td>8388</td>\n",
       "      <td>7696</td>\n",
       "      <td>71560</td>\n",
       "    </tr>\n",
       "  </tbody>\n",
       "</table>\n",
       "</div>"
      ],
      "text/plain": [
       "   year   ht1   ht2  employment\n",
       "0  1997  6096  6401       57880\n",
       "1  1998  6665  6903       57640\n",
       "2  1999  7069  6884       63580\n",
       "3  2000  8254  7746       68120\n",
       "4  2001  8388  7696       71560"
      ]
     },
     "execution_count": 34,
     "metadata": {},
     "output_type": "execute_result"
    }
   ],
   "source": [
    "bc_ht.head()"
   ]
  },
  {
   "cell_type": "code",
   "execution_count": 35,
   "metadata": {
    "slideshow": {
     "slide_type": "slide"
    }
   },
   "outputs": [
    {
     "name": "stdout",
     "output_type": "stream",
     "text": [
      "0      57880\n",
      "1      57640\n",
      "2      63580\n",
      "3      68120\n",
      "4      71560\n",
      "5      71250\n",
      "6      72390\n",
      "7      73320\n",
      "8      80170\n",
      "9      85770\n",
      "10     91600\n",
      "11     94350\n",
      "12     91350\n",
      "13     89820\n",
      "14     92100\n",
      "15     93890\n",
      "16     95160\n",
      "17     99080\n",
      "18    102230\n",
      "19    106430\n",
      "Name: employment, dtype: int64\n"
     ]
    }
   ],
   "source": [
    "print(bc_ht[\"employment\"])"
   ]
  },
  {
   "cell_type": "code",
   "execution_count": 37,
   "metadata": {
    "slideshow": {
     "slide_type": "slide"
    }
   },
   "outputs": [
    {
     "data": {
      "text/plain": [
       "10667.05"
      ]
     },
     "execution_count": 37,
     "metadata": {},
     "output_type": "execute_result"
    }
   ],
   "source": [
    "bc_ht['ht1'].mean()"
   ]
  },
  {
   "cell_type": "code",
   "execution_count": 39,
   "metadata": {
    "slideshow": {
     "slide_type": "slide"
    }
   },
   "outputs": [
    {
     "data": {
      "text/plain": [
       "14566"
      ]
     },
     "execution_count": 39,
     "metadata": {},
     "output_type": "execute_result"
    }
   ],
   "source": [
    "bc_ht['ht1'].max()"
   ]
  },
  {
   "cell_type": "code",
   "execution_count": 40,
   "metadata": {
    "slideshow": {
     "slide_type": "slide"
    }
   },
   "outputs": [
    {
     "data": {
      "text/plain": [
       "6096"
      ]
     },
     "execution_count": 40,
     "metadata": {},
     "output_type": "execute_result"
    }
   ],
   "source": [
    "bc_ht['ht1'].min()"
   ]
  },
  {
   "cell_type": "code",
   "execution_count": 41,
   "metadata": {
    "slideshow": {
     "slide_type": "slide"
    }
   },
   "outputs": [
    {
     "data": {
      "text/plain": [
       "11245.0"
      ]
     },
     "execution_count": 41,
     "metadata": {},
     "output_type": "execute_result"
    }
   ],
   "source": [
    "bc_ht['ht1'].median()"
   ]
  },
  {
   "cell_type": "code",
   "execution_count": 42,
   "metadata": {
    "slideshow": {
     "slide_type": "slide"
    }
   },
   "outputs": [
    {
     "data": {
      "text/plain": [
       "0      6096\n",
       "1      6665\n",
       "2      7069\n",
       "3      8254\n",
       "4      8388\n",
       "5      8632\n",
       "6      9338\n",
       "7      9683\n",
       "8     10320\n",
       "9     11028\n",
       "10    11462\n",
       "11    11768\n",
       "12    11833\n",
       "13    11999\n",
       "14    12319\n",
       "15    12763\n",
       "16    13284\n",
       "17    13801\n",
       "18    14073\n",
       "19    14566\n",
       "dtype: int64"
      ]
     },
     "execution_count": 42,
     "metadata": {},
     "output_type": "execute_result"
    }
   ],
   "source": [
    "bc_ht['ht1'].mode()"
   ]
  },
  {
   "cell_type": "code",
   "execution_count": 43,
   "metadata": {
    "slideshow": {
     "slide_type": "slide"
    }
   },
   "outputs": [
    {
     "data": {
      "text/plain": [
       "count       20.00000\n",
       "mean     10667.05000\n",
       "std       2550.25818\n",
       "min       6096.00000\n",
       "25%       8571.00000\n",
       "50%      11245.00000\n",
       "75%      12430.00000\n",
       "max      14566.00000\n",
       "Name: ht1, dtype: float64"
      ]
     },
     "execution_count": 43,
     "metadata": {},
     "output_type": "execute_result"
    }
   ],
   "source": [
    "bc_ht['ht1'].describe()"
   ]
  },
  {
   "cell_type": "code",
   "execution_count": 66,
   "metadata": {
    "slideshow": {
     "slide_type": "slide"
    }
   },
   "outputs": [
    {
     "data": {
      "image/png": "[encoded data removed]",
      "text/plain": [
       "<matplotlib.figure.Figure at 0x115c726d0>"
      ]
     },
     "metadata": {},
     "output_type": "display_data"
    }
   ],
   "source": [
    "import seaborn as sns\n",
    "# Hexbin plots\n",
    "# http://seaborn.pydata.org/tutorial/distributions.html#distribution-tutorial\n",
    "with sns.axes_style(\"darkgrid\"):\n",
    "    sns.pointplot(x=bc_ht[\"year\"], y=bc_ht[\"ht1\"], color=\"blue\")#, kind=\"hex\", color=\"r\");"
   ]
  },
  {
   "cell_type": "code",
   "execution_count": 56,
   "metadata": {
    "slideshow": {
     "slide_type": "slide"
    }
   },
   "outputs": [
    {
     "data": {
      "image/png": "[encoded data removed]",
      "text/plain": [
       "<matplotlib.figure.Figure at 0x11701ee50>"
      ]
     },
     "metadata": {},
     "output_type": "display_data"
    }
   ],
   "source": [
    "import seaborn as sns\n",
    "with sns.axes_style(\"darkgrid\"):\n",
    "    sns.pointplot(x=bc_ht[\"year\"], y=bc_ht[\"employment\"], color=\"r\")"
   ]
  }
 ],
 "metadata": {
  "kernelspec": {
   "display_name": "Python 2",
   "language": "python",
   "name": "python2"
  },
  "language_info": {
   "codemirror_mode": {
    "name": "ipython",
    "version": 2
   },
   "file_extension": ".py",
   "mimetype": "text/x-python",
   "name": "python",
   "nbconvert_exporter": "python",
   "pygments_lexer": "ipython2",
   "version": "2.7.12"
  }
 },
 "nbformat": 4,
 "nbformat_minor": 1
}
