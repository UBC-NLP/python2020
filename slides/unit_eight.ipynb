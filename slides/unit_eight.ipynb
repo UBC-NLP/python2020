{
 "cells": [
  {
   "cell_type": "markdown",
   "metadata": {},
   "source": [
    "# Misc Code"
   ]
  },
  {
   "cell_type": "code",
   "execution_count": 1,
   "metadata": {},
   "outputs": [
    {
     "name": "stdout",
     "output_type": "stream",
     "text": [
      " Claudius, King of Denmark.  Marcellus, Officer.  Hamlet, son to the for-\n",
      "mer, and nephew to the present king.  Polonius, Lord Chamberlain.  Horatio, friend to Hamlet.\n",
      "Laertes,  son  to  Polonius.   Voltemand,  courtier.   Cornelius,  courtier.   Rosencrantz,  courtier.\n",
      "Guildenstern, courtier.  Osric, courtier.  A Priest.  Marcellus, officer.  Bernardo, officer.  Fran-\n",
      "cisco, a soldier Reynaldo, servant to Polonius.  Players.  Two Clowns, gravediggers.  Fortinbras,\n",
      "Prince of Norway!  A Norwegian Captain...  English Ambassadors.\n"
     ]
    }
   ],
   "source": [
    "text= \"\"\" Claudius, King of Denmark.  Marcellus, Officer.  Hamlet, son to the for-\n",
    "mer, and nephew to the present king.  Polonius, Lord Chamberlain.  Horatio, friend to Hamlet.\n",
    "Laertes,  son  to  Polonius.   Voltemand,  courtier.   Cornelius,  courtier.   Rosencrantz,  courtier.\n",
    "Guildenstern, courtier.  Osric, courtier.  A Priest.  Marcellus, officer.  Bernardo, officer.  Fran-\n",
    "cisco, a soldier Reynaldo, servant to Polonius.  Players.  Two Clowns, gravediggers.  Fortinbras,\n",
    "Prince of Norway!  A Norwegian Captain...  English Ambassadors.\"\"\"\n",
    "print(text)"
   ]
  },
  {
   "cell_type": "code",
   "execution_count": 2,
   "metadata": {},
   "outputs": [
    {
     "name": "stdout",
     "output_type": "stream",
     "text": [
      "Claudius,\n",
      "King\n",
      "of\n",
      "Denmark.\n",
      "Marcellus,\n",
      "Officer.\n",
      "Hamlet,\n",
      "son\n",
      "to\n",
      "the\n",
      "for-mer,\n",
      "and\n",
      "nephew\n",
      "to\n",
      "the\n",
      "present\n",
      "king.\n",
      "Polonius,\n",
      "Lord\n",
      "Chamberlain.\n",
      "Horatio,\n",
      "friend\n",
      "to\n",
      "Hamlet.Laertes,\n",
      "son\n",
      "to\n",
      "Polonius.\n",
      "Voltemand,\n",
      "courtier.\n",
      "Cornelius,\n",
      "courtier.\n",
      "Rosencrantz,\n",
      "courtier.Guildenstern,\n",
      "courtier.\n",
      "Osric,\n",
      "courtier.\n",
      "A\n",
      "Priest.\n",
      "Marcellus,\n",
      "officer.\n",
      "Bernardo,\n",
      "officer.\n",
      "Fran-cisco,\n",
      "a\n",
      "soldier\n",
      "Reynaldo,\n",
      "servant\n",
      "to\n",
      "Polonius.\n",
      "Players.\n",
      "Two\n",
      "Clowns,\n",
      "gravediggers.\n",
      "Fortinbras,Prince\n",
      "of\n",
      "Norway!\n",
      "A\n",
      "Norwegian\n",
      "Captain...\n",
      "English\n",
      "Ambassadors.\n"
     ]
    }
   ],
   "source": [
    "text=text.replace(\"\\n\", \"\")\n",
    "for w in text.split():\n",
    "    print(w)"
   ]
  },
  {
   "cell_type": "code",
   "execution_count": 9,
   "metadata": {},
   "outputs": [],
   "source": [
    "import string\n",
    "def get_words(text):\n",
    "    word_dic = dict()\n",
    "    text=text.replace(\"\\n\", \"\")\n",
    "    punc = string.punctuation\n",
    "    text = text.translate(str.maketrans(\"\",\"\", punc))\n",
    "    words = text.lower().split()\n",
    "    unique_words = set(words)\n",
    "    for word in words:\n",
    "        if word not in word_dic:\n",
    "            word_dic[word] = 1\n",
    "        else:\n",
    "            word_dic[word] += 1\n",
    "    return word_dic, unique_words"
   ]
  },
  {
   "cell_type": "code",
   "execution_count": 10,
   "metadata": {},
   "outputs": [
    {
     "name": "stdout",
     "output_type": "stream",
     "text": [
      "!\"#$%&'()*+,-./:;<=>?@[\\]^_`{|}~\n"
     ]
    }
   ],
   "source": [
    "import string\n",
    "punc= string.punctuation\n",
    "print(punc)"
   ]
  },
  {
   "cell_type": "code",
   "execution_count": 11,
   "metadata": {},
   "outputs": [
    {
     "name": "stdout",
     "output_type": "stream",
     "text": [
      "word count {'claudius': 1, 'king': 2, 'of': 2, 'denmark': 1, 'marcellus': 2, 'officer': 3, 'hamlet': 1, 'son': 2, 'to': 5, 'the': 2, 'former': 1, 'and': 1, 'nephew': 1, 'present': 1, 'polonius': 3, 'lord': 1, 'chamberlain': 1, 'horatio': 1, 'friend': 1, 'hamletlaertes': 1, 'voltemand': 1, 'courtier': 4, 'cornelius': 1, 'rosencrantz': 1, 'courtierguildenstern': 1, 'osric': 1, 'a': 3, 'priest': 1, 'bernardo': 1, 'francisco': 1, 'soldier': 1, 'reynaldo': 1, 'servant': 1, 'players': 1, 'two': 1, 'clowns': 1, 'gravediggers': 1, 'fortinbrasprince': 1, 'norway': 1, 'norwegian': 1, 'captain': 1, 'english': 1, 'ambassadors': 1}\n"
     ]
    }
   ],
   "source": [
    "word_dic, unique_words = get_words(text)\n",
    "print(\"word count\", word_dic)\n"
   ]
  },
  {
   "cell_type": "code",
   "execution_count": 14,
   "metadata": {},
   "outputs": [
    {
     "name": "stdout",
     "output_type": "stream",
     "text": [
      "unique words ['the', 'voltemand', 'francisco', 'nephew', 'a', 'courtierguildenstern', 'to', 'king', 'two', 'of', 'norway', 'priest', 'courtier', 'cornelius', 'chamberlain', 'present', 'denmark', 'osric', 'reynaldo', 'captain', 'norwegian', 'hamletlaertes', 'friend', 'clowns', 'son', 'gravediggers', 'bernardo', 'soldier', 'former', 'ambassadors', 'servant', 'fortinbrasprince', 'and', 'hamlet', 'lord', 'horatio', 'players', 'polonius', 'claudius', 'english', 'marcellus', 'officer', 'rosencrantz']\n"
     ]
    }
   ],
   "source": [
    "print(\"unique words\",list(unique_words))"
   ]
  },
  {
   "cell_type": "code",
   "execution_count": 15,
   "metadata": {},
   "outputs": [
    {
     "name": "stdout",
     "output_type": "stream",
     "text": [
      " Claudius, King of Denmark\n",
      "  Marcellus, Officer\n",
      "  Hamlet, son to the for-mer, and nephew to the present king\n",
      "  Polonius, Lord Chamberlain\n",
      "  Horatio, friend to Hamlet\n",
      "Laertes,  son  to  Polonius\n",
      "   Voltemand,  courtier\n",
      "   Cornelius,  courtier\n",
      "   Rosencrantz,  courtier\n",
      "Guildenstern, courtier\n",
      "  Osric, courtier\n",
      "  A Priest\n",
      "  Marcellus, officer\n",
      "  Bernardo, officer\n",
      "  Fran-cisco, a soldier Reynaldo, servant to Polonius\n",
      "  Players\n",
      "  Two Clowns, gravediggers\n",
      "  Fortinbras,Prince of Norway\n",
      "  A Norwegian Captain\n",
      "  English Ambassadors\n"
     ]
    }
   ],
   "source": [
    "def sentence_split(text):\n",
    "    text=text.replace(\"\\n\",\"\")\n",
    "    text=text.replace(\"!\", \".\")\n",
    "    \n",
    "    sentences=text.split(\".\")\n",
    "    sentences=[x for x in sentences if x]\n",
    "    return sentences\n",
    "\n",
    "sentences=sentence_split(text)\n",
    "for s in sentences:\n",
    "    print(s)"
   ]
  },
  {
   "cell_type": "code",
   "execution_count": 16,
   "metadata": {},
   "outputs": [
    {
     "name": "stdout",
     "output_type": "stream",
     "text": [
      "  Hamlet, son to the for-mer, and nephew to the present king\n",
      "Laertes,  son  to  Polonius\n"
     ]
    }
   ],
   "source": [
    "for s in sentences:\n",
    "    if \"son\" in s:\n",
    "        print(s)\n",
    "#         s=s.split(\",\")\n",
    "#         print(s[0])"
   ]
  },
  {
   "cell_type": "code",
   "execution_count": 17,
   "metadata": {},
   "outputs": [
    {
     "name": "stdout",
     "output_type": "stream",
     "text": [
      "['courtier', 'servant', 'officer', 'gravedigger', 'ambassador']\n"
     ]
    }
   ],
   "source": [
    "professions=[\"courtier\", \"servant\", \"officer\", \"gravedigger\",\n",
    "\"ambassador\"]\n",
    "print(professions)"
   ]
  },
  {
   "cell_type": "code",
   "execution_count": 18,
   "metadata": {},
   "outputs": [
    {
     "name": "stdout",
     "output_type": "stream",
     "text": [
      "   Voltemand   courtier\n",
      "   Cornelius   courtier\n",
      "   Rosencrantz   courtier\n",
      "Guildenstern  courtier\n",
      "  Osric  courtier\n",
      "  Fran-cisco  servant to Polonius\n",
      "  Marcellus  officer\n",
      "  Bernardo  officer\n",
      "  Two Clowns  gravediggers\n"
     ]
    }
   ],
   "source": [
    "def extract_professions(sent_list):\n",
    "    people_jobs={}\n",
    "    for p in professions:\n",
    "        for s in sent_list:\n",
    "            if p in s:\n",
    "                s=s.split(\",\")\n",
    "                name=s[0]\n",
    "                job=s[-1]\n",
    "                people_jobs[name]=job\n",
    "    return people_jobs\n",
    "\n",
    "pj = extract_professions(sentences)\n",
    "for k in pj:\n",
    "    print(k, pj[k])"
   ]
  },
  {
   "cell_type": "code",
   "execution_count": 19,
   "metadata": {},
   "outputs": [
    {
     "name": "stdout",
     "output_type": "stream",
     "text": [
      "['Voltemand', 'Cornelius', 'Rosencrantz', 'Guildenstern', 'Osric']\n"
     ]
    }
   ],
   "source": [
    "def get_courtier(sent_list):\n",
    "    courtiers=[]\n",
    "    for s in sent_list:\n",
    "        if \"courtier\" in s:\n",
    "            s=s.split(\",\")\n",
    "            c= s[0] #one courtier\n",
    "            c=c.lstrip()\n",
    "            courtiers.append(c)\n",
    "            #print(s[0])\n",
    "    return courtiers\n",
    "\n",
    "courtiers=get_courtier(sentences)\n",
    "print(courtiers)"
   ]
  },
  {
   "cell_type": "code",
   "execution_count": 20,
   "metadata": {},
   "outputs": [
    {
     "name": "stdout",
     "output_type": "stream",
     "text": [
      "Claudius, King of Denmark.  Marcellus, Officer.  Hamlet, son to the for-mer, and nephew to the present king.  Polonius, Lord Chamberlain.  Horatio, friend to Hamlet.Laertes,  son  to  Polonius.   Voltemand,  courtier.   Cornelius,  courtier.   Rosencrantz,  courtier.Guildenstern, courtier.  Osric, courtier.  A Priest.  Marcellus, officer.  Bernardo, officer.  Fran-cisco, a soldier Reynaldo, servant to Polonius.  Players.  Two Clowns, gravediggers.  Fortinbras,Prince of Norway!  A Norwegian Captain...  English Ambassadors\n"
     ]
    }
   ],
   "source": [
    "\n",
    "def cleaner(t):\n",
    "    #remove the last character in the string (which is a dot)\n",
    "    t=t[:-1]\n",
    "    t=t.strip()\n",
    "#     t= t.replace(\".\", \"\")\n",
    "#     t= t.replace(\",\", \"\")\n",
    "    t= t.replace(\"\\n\", \"\")\n",
    "    return t\n",
    "    \n",
    "#Call function\n",
    "x= cleaner(text)\n",
    "print(x)"
   ]
  },
  {
   "cell_type": "code",
   "execution_count": 21,
   "metadata": {},
   "outputs": [
    {
     "name": "stdout",
     "output_type": "stream",
     "text": [
      "hello\n"
     ]
    }
   ],
   "source": [
    "# Get red of last char in a string\n",
    "g=\"hello.\"\n",
    "g=g[:-1]\n",
    "print(g)"
   ]
  },
  {
   "cell_type": "code",
   "execution_count": 23,
   "metadata": {},
   "outputs": [],
   "source": [
    "def get_word_count(input_text):\n",
    "    # calling the cleaner function defined earlier\n",
    "    cleaned_text= cleaner(input_text)\n",
    "    words= cleaned_text.split()\n",
    "    #print(input_text)\n",
    "    length= len(words)\n",
    "    return length"
   ]
  },
  {
   "cell_type": "code",
   "execution_count": 24,
   "metadata": {},
   "outputs": [],
   "source": [
    "#call the function\n",
    "length_of_words= get_word_count(text)"
   ]
  },
  {
   "cell_type": "code",
   "execution_count": 36,
   "metadata": {},
   "outputs": [
    {
     "name": "stdout",
     "output_type": "stream",
     "text": [
      "66\n"
     ]
    }
   ],
   "source": [
    "print(length_of_words)"
   ]
  },
  {
   "cell_type": "code",
   "execution_count": 25,
   "metadata": {},
   "outputs": [
    {
     "data": {
      "text/plain": [
       "['Hamlet', ' son to the for-mer', ' and nephew to the present king']"
      ]
     },
     "execution_count": 25,
     "metadata": {},
     "output_type": "execute_result"
    }
   ],
   "source": [
    "# One chunk has two commas!\n",
    "h=\"Hamlet, son to the for-mer, and nephew to the present king\"\n",
    "h.split(\",\")"
   ]
  },
  {
   "cell_type": "code",
   "execution_count": 26,
   "metadata": {},
   "outputs": [
    {
     "name": "stdout",
     "output_type": "stream",
     "text": [
      "['Claudius, King of Denmark', '  Marcellus, Officer', '  Hamlet, son to the for-mer, and nephew to the present king', '  Polonius, Lord Chamberlain', '  Horatio, friend to Hamlet', 'Laertes,  son  to  Polonius', '   Voltemand,  courtier', '   Cornelius,  courtier', '   Rosencrantz,  courtier', 'Guildenstern, courtier', '  Osric, courtier', '  A Priest', '  Marcellus, officer', '  Bernardo, officer', '  Fran-cisco, a soldier Reynaldo, servant to Polonius', '  Players', '  Two Clowns, gravediggers', '  Fortinbras,Prince of Norway!  A Norwegian Captain', '', '', '  English Ambassadors']\n"
     ]
    }
   ],
   "source": [
    "new_text= cleaner(text)\n",
    "sentences=new_text.split(\".\")\n",
    "print(sentences)"
   ]
  },
  {
   "cell_type": "code",
   "execution_count": 27,
   "metadata": {},
   "outputs": [],
   "source": [
    "def chunker(l):\n",
    "    # create empty dict\n",
    "    d={}\n",
    "    for chunk in l:\n",
    "        pair=chunk.split(\",\")\n",
    "        if len(pair)==2:\n",
    "            name=pair[0]\n",
    "            job=pair[-1]\n",
    "            #print(name+\" --> \"+job)\n",
    "            # populate the dict\n",
    "            d[name]=job\n",
    "        elif len(pair)==3:\n",
    "            name= pair[0]\n",
    "            job= pair[1] + pair[2]\n",
    "            #print(name+\" --> \"+job)\n",
    "            # populate the dict\n",
    "            d[name]=job\n",
    "            \n",
    "    # return the dict after populating it\n",
    "    return d\n",
    "        \n",
    "# Call function       \n",
    "society = chunker(sentences)"
   ]
  },
  {
   "cell_type": "code",
   "execution_count": 28,
   "metadata": {},
   "outputs": [
    {
     "name": "stdout",
     "output_type": "stream",
     "text": [
      "['  a priest', '  players', '', '', '  english ambassadors']\n"
     ]
    }
   ],
   "source": [
    "def get_irregular_sent(sentences):\n",
    "    irreg_sentences=[]\n",
    "    for sent in sentences:\n",
    "        if \",\" not in sent:\n",
    "            sent=sent.lower()\n",
    "            irreg_sentences.append(sent)\n",
    "    return irreg_sentences\n",
    "\n",
    "irreg_sentences= get_irregular_sent(sentences)\n",
    "print(irreg_sentences)"
   ]
  },
  {
   "cell_type": "code",
   "execution_count": 29,
   "metadata": {},
   "outputs": [
    {
     "name": "stdout",
     "output_type": "stream",
     "text": [
      "['ambassadors']\n"
     ]
    }
   ],
   "source": [
    "professions=[\"ambassadors\", \"officer\", \"captain\"]\n",
    "\n",
    "def get_irreg_professions(professions, irreg_sentences):\n",
    "    exceptional_professions=[]\n",
    "    for p in professions:\n",
    "        for irreg in irreg_sentences:\n",
    "            if p in irreg:\n",
    "                exceptional_professions.append(p)\n",
    "                #print(p)\n",
    "    return exceptional_professions\n",
    "#######\n",
    "exceptional_professions= get_irreg_professions(professions, irreg_sentences)\n",
    "print(exceptional_professions)"
   ]
  },
  {
   "cell_type": "code",
   "execution_count": 30,
   "metadata": {},
   "outputs": [
    {
     "name": "stdout",
     "output_type": "stream",
     "text": [
      "   Voltemand -->   courtier\n",
      "   Cornelius -->   courtier\n",
      "   Rosencrantz -->   courtier\n",
      "Guildenstern -->  courtier\n",
      "  Osric -->  courtier\n"
     ]
    }
   ],
   "source": [
    "for k in society:\n",
    "    person=k\n",
    "    function=society[k]\n",
    "    if \"courtier\" in function:\n",
    "        print(person+\" --> \"+ function)"
   ]
  },
  {
   "cell_type": "code",
   "execution_count": 31,
   "metadata": {},
   "outputs": [
    {
     "name": "stdout",
     "output_type": "stream",
     "text": [
      "['Voltemand', 'Cornelius', 'Rosencrantz', 'Guildenstern', 'Osric']\n"
     ]
    }
   ],
   "source": [
    "text= \"\"\" Claudius, King of Denmark.  Marcellus, Officer.  Hamlet, son to the for-\n",
    "mer, and nephew to the present king.  Polonius, Lord Chamberlain.  Horatio, friend to Hamlet.\n",
    "Laertes,  son  to  Polonius.   Voltemand,  courtier.   Cornelius,  courtier.   Rosencrantz,  courtier.\n",
    "Guildenstern, courtier.  Osric, courtier.  A Priest.  Marcellus, officer.  Bernardo, officer.  Fran-\n",
    "cisco, a soldier Reynaldo, servant to Polonius.  Players.  Two Clowns, gravediggers.  Fortinbras,\n",
    "Prince of Norway.  A Norwegian Captain.  English Ambassadors.\"\"\"\n",
    "#print(text)\n",
    "\n",
    "def get_job(text):\n",
    "    d={}\n",
    "    new_text=text.split(\".\")\n",
    "    #print(new_text)\n",
    "    for i in new_text:\n",
    "        #if \"courtier\" in i:\n",
    "        new_i=i.split(\",\")\n",
    "        name=new_i[0]\n",
    "        job=new_i[-1]\n",
    "        #print(job)\n",
    "        d[name]=job\n",
    "    return d\n",
    "        \n",
    "\n",
    "society= get_job(text)\n",
    "courtiers=[]\n",
    "for k in society:\n",
    "    if \"courtier\" in society[k]:\n",
    "        clean_k=k.strip()\n",
    "        courtiers.append(clean_k)\n",
    "        #print(clean_k)\n",
    "print(courtiers)"
   ]
  }
 ],
 "metadata": {
  "celltoolbar": "Slideshow",
  "kernelspec": {
   "display_name": "Python 3",
   "language": "python",
   "name": "python3"
  },
  "language_info": {
   "codemirror_mode": {
    "name": "ipython",
    "version": 3
   },
   "file_extension": ".py",
   "mimetype": "text/x-python",
   "name": "python",
   "nbconvert_exporter": "python",
   "pygments_lexer": "ipython3",
   "version": "3.6.8"
  }
 },
 "nbformat": 4,
 "nbformat_minor": 1
}
