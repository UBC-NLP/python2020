{
 "cells": [
  {
   "cell_type": "markdown",
   "metadata": {
    "slideshow": {
     "slide_type": "slide"
    }
   },
   "source": [
    "# Files\n",
    "* Python is an excellent language for working with textual data.\n",
    "* In this tutorial, we cover how to read and write text files."
   ]
  },
  {
   "cell_type": "markdown",
   "metadata": {
    "slideshow": {
     "slide_type": "slide"
    }
   },
   "source": [
    "# Motivations\n",
    "* Why would we need to process files?\n",
    "* Real-world examples?"
   ]
  },
  {
   "cell_type": "markdown",
   "metadata": {
    "slideshow": {
     "slide_type": "slide"
    }
   },
   "source": [
    "# Practice set-up\n",
    "* Download the file \"shakespeare.txt\" from Canvas >> Files >> data >> \"shakespeare.txt\".\n",
    "* FYI: The file is also available at: http://www.gutenberg.org/cache/epub/100/pg100.txt."
   ]
  },
  {
   "cell_type": "code",
   "execution_count": 4,
   "metadata": {
    "slideshow": {
     "slide_type": "slide"
    }
   },
   "outputs": [
    {
     "name": "stdout",
     "output_type": "stream",
     "text": [
      "<class '_io.TextIOWrapper'>\n"
     ]
    }
   ],
   "source": [
    "# \"open\" will return a \"file\" object (also called file-like object or a stream). \n",
    "# Note we are opening the file for reading (by providing a mode --> \"r\" argument)\n",
    "shakespeare_works=open(\"shakespeare.txt\", \"r\")\n",
    "print(type(shakespeare_works)) \n",
    "#More info.: https://docs.python.org/3/library/io.html#io.TextIOWrapper"
   ]
  },
  {
   "cell_type": "markdown",
   "metadata": {
    "slideshow": {
     "slide_type": "slide"
    }
   },
   "source": [
    "* The file must be in your current directory (same as this Jupyter notebook or where your \".py\" script lives)\n",
    "* Another option would be to provide the \"full path\" where the file lives on desk."
   ]
  },
  {
   "cell_type": "markdown",
   "metadata": {
    "slideshow": {
     "slide_type": "slide"
    }
   },
   "source": [
    "* Modes include: **\"r\" for reading**, **\"w\" for writing**, and **\"a\" for appending**\n",
    "* The mode **\"x\", for exclusive creation** was also newly added in Python 3.3. It is similar to **\"w\"**, but will fail if the file already exists. (see more: https://docs.python.org/3/library/functions.html#open)."
   ]
  },
  {
   "cell_type": "code",
   "execution_count": 57,
   "metadata": {
    "slideshow": {
     "slide_type": "slide"
    }
   },
   "outputs": [
    {
     "name": "stdout",
     "output_type": "stream",
     "text": [
      "<class 'str'>\n"
     ]
    }
   ],
   "source": [
    "# Read the whole file as a big \"string\"\n",
    "f =open(\"shakespeare.txt\", \"r\")\n",
    "f=f.read()\n",
    "print(type(f))"
   ]
  },
  {
   "cell_type": "code",
   "execution_count": 5,
   "metadata": {},
   "outputs": [],
   "source": [
    "f =open(\"shakespeare.txt\", \"r\")\n",
    "f=f.read() \n",
    "\n",
    "# Below will also work:\n",
    "#-----------------------\n",
    "# f =open(\"shakespeare.txt\", \"r\").read()"
   ]
  },
  {
   "cell_type": "code",
   "execution_count": 6,
   "metadata": {
    "slideshow": {
     "slide_type": "slide"
    }
   },
   "outputs": [
    {
     "name": "stdout",
     "output_type": "stream",
     "text": [
      "5465395\n"
     ]
    }
   ],
   "source": [
    "# It's a very big string\n",
    "print(len(f))"
   ]
  },
  {
   "cell_type": "code",
   "execution_count": 7,
   "metadata": {
    "slideshow": {
     "slide_type": "slide"
    }
   },
   "outputs": [
    {
     "name": "stdout",
     "output_type": "stream",
     "text": [
      "﻿The Project Gutenberg EB\n"
     ]
    }
   ],
   "source": [
    "print(f[:25])"
   ]
  },
  {
   "cell_type": "code",
   "execution_count": 8,
   "metadata": {
    "slideshow": {
     "slide_type": "slide"
    }
   },
   "outputs": [
    {
     "name": "stdout",
     "output_type": "stream",
     "text": [
      "﻿The Project Gutenberg EBook of The Complete Works\n"
     ]
    }
   ],
   "source": [
    "print(f[:50])"
   ]
  },
  {
   "cell_type": "code",
   "execution_count": 9,
   "metadata": {},
   "outputs": [
    {
     "name": "stdout",
     "output_type": "stream",
     "text": [
      "Welcome\n"
     ]
    }
   ],
   "source": [
    "s= \"Welcome everyone\"\n",
    "new= s[0:7]\n",
    "print(new)"
   ]
  },
  {
   "cell_type": "code",
   "execution_count": 10,
   "metadata": {
    "slideshow": {
     "slide_type": "slide"
    }
   },
   "outputs": [
    {
     "name": "stdout",
     "output_type": "stream",
     "text": [
      "This eBook is for the use of anyone anywhere at no cost and with\n",
      "almost no restrictions whatsoever. \n"
     ]
    }
   ],
   "source": [
    "print(f[100:200])"
   ]
  },
  {
   "cell_type": "code",
   "execution_count": 58,
   "metadata": {
    "slideshow": {
     "slide_type": "slide"
    }
   },
   "outputs": [
    {
     "name": "stdout",
     "output_type": "stream",
     "text": [
      "<class 'list'>\n"
     ]
    }
   ],
   "source": [
    "# readlines() will return a list of all the lines in the file\n",
    "f =open(\"shakespeare.txt\", \"r\").readlines()\n",
    "print(type(f))"
   ]
  },
  {
   "cell_type": "code",
   "execution_count": 59,
   "metadata": {
    "slideshow": {
     "slide_type": "slide"
    }
   },
   "outputs": [
    {
     "name": "stdout",
     "output_type": "stream",
     "text": [
      "124796\n"
     ]
    }
   ],
   "source": [
    "print(len(f))"
   ]
  },
  {
   "cell_type": "code",
   "execution_count": 60,
   "metadata": {
    "slideshow": {
     "slide_type": "slide"
    }
   },
   "outputs": [
    {
     "name": "stdout",
     "output_type": "stream",
     "text": [
      "['\\ufeffThe Project Gutenberg EBook of The Complete Works of William Shakespeare, by \\n', 'William Shakespeare\\n', '\\n', 'This eBook is for the use of anyone anywhere at no cost and with\\n', 'almost no restrictions whatsoever.  You may copy it, give it away or\\n']\n"
     ]
    }
   ],
   "source": [
    "print(f[:5])"
   ]
  },
  {
   "cell_type": "code",
   "execution_count": 14,
   "metadata": {
    "slideshow": {
     "slide_type": "slide"
    }
   },
   "outputs": [
    {
     "name": "stdout",
     "output_type": "stream",
     "text": [
      "*** END: FULL LICENSE ***\n",
      "\n"
     ]
    }
   ],
   "source": [
    "print(f[-1])"
   ]
  },
  {
   "cell_type": "code",
   "execution_count": 61,
   "metadata": {
    "slideshow": {
     "slide_type": "slide"
    }
   },
   "outputs": [],
   "source": [
    "out_f = open(\"small_text.txt\", \"w\")"
   ]
  },
  {
   "cell_type": "code",
   "execution_count": 62,
   "metadata": {},
   "outputs": [
    {
     "ename": "FileExistsError",
     "evalue": "[Errno 17] File exists: 'small_text.txt'",
     "output_type": "error",
     "traceback": [
      "\u001b[0;31m-------------------------------------\u001b[0m",
      "\u001b[0;31mFileExistsError\u001b[0mTraceback (most recent call last)",
      "\u001b[0;32m<ipython-input-62-0dcf958fb96f>\u001b[0m in \u001b[0;36m<module>\u001b[0;34m()\u001b[0m\n\u001b[0;32m----> 1\u001b[0;31m \u001b[0mout_f\u001b[0m \u001b[0;34m=\u001b[0m \u001b[0mopen\u001b[0m\u001b[0;34m(\u001b[0m\u001b[0;34m\"small_text.txt\"\u001b[0m\u001b[0;34m,\u001b[0m \u001b[0;34m\"x\"\u001b[0m\u001b[0;34m)\u001b[0m\u001b[0;34m\u001b[0m\u001b[0;34m\u001b[0m\u001b[0m\n\u001b[0m",
      "\u001b[0;31mFileExistsError\u001b[0m: [Errno 17] File exists: 'small_text.txt'"
     ]
    }
   ],
   "source": [
    "# This will give an error since the file already exists\n",
    "out_f = open(\"small_text.txt\", \"x\")"
   ]
  },
  {
   "cell_type": "code",
   "execution_count": 63,
   "metadata": {},
   "outputs": [],
   "source": [
    "# Even though the file exists, we do not get an error\n",
    "out_f = open(\"small_text.txt\", \"w\")"
   ]
  },
  {
   "cell_type": "code",
   "execution_count": 64,
   "metadata": {
    "slideshow": {
     "slide_type": "slide"
    }
   },
   "outputs": [
    {
     "data": {
      "text/plain": [
       "20"
      ]
     },
     "execution_count": 64,
     "metadata": {},
     "output_type": "execute_result"
    }
   ],
   "source": [
    "text=\"Do you like Python?\\n\" # Note we add \"\\n\" as write does not automatically do that for us\n",
    "out_f.write(text)"
   ]
  },
  {
   "cell_type": "code",
   "execution_count": 65,
   "metadata": {},
   "outputs": [],
   "source": [
    "out_f.close()"
   ]
  },
  {
   "cell_type": "code",
   "execution_count": 72,
   "metadata": {},
   "outputs": [],
   "source": [
    "out_f = open(\"small_text.txt\", \"a\") # Note the \"a\" (append) mode"
   ]
  },
  {
   "cell_type": "code",
   "execution_count": 73,
   "metadata": {
    "slideshow": {
     "slide_type": "slide"
    }
   },
   "outputs": [
    {
     "data": {
      "text/plain": [
       "17"
      ]
     },
     "execution_count": 73,
     "metadata": {},
     "output_type": "execute_result"
    }
   ],
   "source": [
    "another_question=\"Do you like Lua?\\n\"\n",
    "out_f.write(another_question)"
   ]
  },
  {
   "cell_type": "code",
   "execution_count": 74,
   "metadata": {},
   "outputs": [],
   "source": [
    "out_f.close()"
   ]
  },
  {
   "cell_type": "code",
   "execution_count": 75,
   "metadata": {},
   "outputs": [],
   "source": [
    "text3=\"Do you like Java?\\n\"\n",
    "out_f = open(\"small_text.txt\", \"a\") # Note the \"a\" (append) mode\n",
    "out_f.write(text3)\n",
    "out_f.close()"
   ]
  },
  {
   "cell_type": "markdown",
   "metadata": {
    "slideshow": {
     "slide_type": "slide"
    }
   },
   "source": [
    "# More with files"
   ]
  },
  {
   "cell_type": "code",
   "execution_count": 77,
   "metadata": {
    "slideshow": {
     "slide_type": "slide"
    }
   },
   "outputs": [
    {
     "name": "stdout",
     "output_type": "stream",
     "text": [
      "defaultdict(<class 'int'>, {'\\ufeffthe': 1, 'project': 3, 'gutenberg': 3, 'ebook': 3, 'of': 4, 'the': 5, 'complete': 1, 'works': 1, 'william': 2, 'shakespeare,': 1, 'by': 1, 'shakespeare': 1, 'this': 4, 'is': 2, 'for': 1, 'use': 1, 'anyone': 1, 'anywhere': 1, 'at': 2, 'no': 2, 'cost': 1, 'and': 1, 'with': 2, 'almost': 1, 'restrictions': 1, 'whatsoever.': 1, 'you': 1, 'may': 1, 'copy': 1, 'it,': 1, 'give': 1, 'it': 2, 'away': 1, 'or': 2, 're-use': 1, 'under': 1, 'terms': 1, 'license': 1, 'included': 1, 'online': 1, 'www.gutenberg.org': 1, '**': 4, 'a': 1, 'copyrighted': 1, 'ebook,': 1, 'details': 1, 'below': 1, 'please': 1, 'follow': 1, 'copyright': 1, 'guidelines': 1, 'in': 1, 'file.': 1})\n"
     ]
    }
   ],
   "source": [
    "from collections import defaultdict\n",
    "\n",
    "def get_dict(sentences):\n",
    "    \"\"\"\n",
    "    arguments:\n",
    "    input: @sentences: a list of sentences\n",
    "    returns: a dictionary of the words in the sentences.\n",
    "             dict key is a word and value is word frequency\n",
    "    \"\"\"\n",
    "    word_freq=defaultdict(int)\n",
    "    for sent in sentences:\n",
    "        words=sent.lower().split()\n",
    "        for w in words:\n",
    "            word_freq[w]+=1\n",
    "    return word_freq\n",
    "\n",
    "#\n",
    "lines=open(\"shakespeare.txt\", \"r\").readlines()\n",
    "sentences=lines[:10]\n",
    "freqs=get_dict(sentences)\n",
    "print(freqs)"
   ]
  },
  {
   "cell_type": "code",
   "execution_count": 80,
   "metadata": {},
   "outputs": [
    {
     "name": "stdout",
     "output_type": "stream",
     "text": [
      "<class 'list'>\n"
     ]
    }
   ],
   "source": [
    "# This will sort by count/value of the \"freqs\" dictionary in reverse order such that the highest values occur first\n",
    "# See additional part on this sorting in accompanying code from instructor.\n",
    "d=sorted(freqs.items(), key = lambda x: x[1], reverse=True) # \"d\" is now a list of tuples!\n",
    "print(type(d))\n",
    "#print(d)"
   ]
  },
  {
   "cell_type": "code",
   "execution_count": 85,
   "metadata": {},
   "outputs": [
    {
     "name": "stdout",
     "output_type": "stream",
     "text": [
      "('the', 5)\n"
     ]
    }
   ],
   "source": [
    "print(d[0])"
   ]
  },
  {
   "cell_type": "code",
   "execution_count": 86,
   "metadata": {},
   "outputs": [
    {
     "name": "stdout",
     "output_type": "stream",
     "text": [
      "[('the', 5), ('of', 4), ('this', 4), ('**', 4), ('project', 3), ('gutenberg', 3), ('ebook', 3), ('william', 2), ('is', 2), ('at', 2), ('no', 2), ('with', 2), ('it', 2), ('or', 2), ('\\ufeffthe', 1), ('complete', 1), ('works', 1), ('shakespeare,', 1), ('by', 1), ('shakespeare', 1), ('for', 1), ('use', 1), ('anyone', 1), ('anywhere', 1), ('cost', 1), ('and', 1), ('almost', 1), ('restrictions', 1), ('whatsoever.', 1), ('you', 1), ('may', 1), ('copy', 1), ('it,', 1), ('give', 1), ('away', 1), ('re-use', 1), ('under', 1), ('terms', 1), ('license', 1), ('included', 1), ('online', 1), ('www.gutenberg.org', 1), ('a', 1), ('copyrighted', 1), ('ebook,', 1), ('details', 1), ('below', 1), ('please', 1), ('follow', 1), ('copyright', 1), ('guidelines', 1), ('in', 1), ('file.', 1)]\n"
     ]
    }
   ],
   "source": [
    "print(d)"
   ]
  },
  {
   "cell_type": "code",
   "execution_count": 93,
   "metadata": {},
   "outputs": [
    {
     "name": "stdout",
     "output_type": "stream",
     "text": [
      "('the', 5)\n",
      "('of', 4)\n",
      "('this', 4)\n",
      "('**', 4)\n",
      "('project', 3)\n",
      "('gutenberg', 3)\n",
      "('ebook', 3)\n"
     ]
    }
   ],
   "source": [
    "for i in d:\n",
    "    w= i[0]\n",
    "    freq=i[-1]\n",
    "    if freq > 2:\n",
    "        print(i)"
   ]
  },
  {
   "cell_type": "code",
   "execution_count": 111,
   "metadata": {},
   "outputs": [],
   "source": [
    "lines=open(\"shakespeare.txt\", \"r\").readlines()\n",
    "sentences=lines[:10000]\n",
    "freqs=get_dict(sentences)\n",
    "#print(freqs)"
   ]
  },
  {
   "cell_type": "code",
   "execution_count": 96,
   "metadata": {},
   "outputs": [],
   "source": [
    "def keep_top_n(d, n=2):\n",
    "    short_d={}\n",
    "    for i in d:\n",
    "        w=i[0]\n",
    "        freq=i[-1]\n",
    "        if freq > n:\n",
    "            short_d[w]=freq\n",
    "    return short_d"
   ]
  },
  {
   "cell_type": "code",
   "execution_count": 112,
   "metadata": {},
   "outputs": [
    {
     "name": "stdout",
     "output_type": "stream",
     "text": [
      "{'the': 1931, 'and': 1771, 'i': 1476, 'to': 1471, 'of': 1319, 'my': 1063, 'a': 934, 'that': 901, 'in': 862, 'you': 755, 'is': 708, 'not': 605, 'for': 588, 'with': 555, 'his': 545, 'but': 505, 'thy': 480, 'be': 477, 'it': 472, 'thou': 470, 'have': 469, 'he': 464, 'your': 461, 'me': 401, 'this': 397, 'as': 384, 'so': 351, 'by': 328, 'will': 302, 'what': 301, 'which': 285, 'all': 281, 'shall': 278, 'do': 272, 'her': 267, 'or': 262, 'if': 258, 'are': 253, 'our': 252, 'him': 248, 'when': 240, 'from': 236, 'no': 235, 'we': 233, 'antony.': 223, 'on': 207}\n"
     ]
    }
   ],
   "source": [
    "d=sorted(freqs.items(), key = lambda x: x[1], reverse=True) # \"d\" is now a list of tuples!\n",
    "\n",
    "my_new_d= keep_top_n(d, n=200)\n",
    "print(my_new_d)\n"
   ]
  },
  {
   "cell_type": "code",
   "execution_count": 113,
   "metadata": {},
   "outputs": [
    {
     "data": {
      "text/plain": [
       "[('the', 1931),\n",
       " ('and', 1771),\n",
       " ('i', 1476),\n",
       " ('to', 1471),\n",
       " ('of', 1319),\n",
       " ('my', 1063),\n",
       " ('a', 934),\n",
       " ('that', 901),\n",
       " ('in', 862),\n",
       " ('you', 755),\n",
       " ('is', 708),\n",
       " ('not', 605),\n",
       " ('for', 588),\n",
       " ('with', 555),\n",
       " ('his', 545),\n",
       " ('but', 505),\n",
       " ('thy', 480),\n",
       " ('be', 477),\n",
       " ('it', 472),\n",
       " ('thou', 470),\n",
       " ('have', 469),\n",
       " ('he', 464),\n",
       " ('your', 461),\n",
       " ('me', 401),\n",
       " ('this', 397),\n",
       " ('as', 384),\n",
       " ('so', 351),\n",
       " ('by', 328),\n",
       " ('will', 302),\n",
       " ('what', 301),\n",
       " ('which', 285),\n",
       " ('all', 281),\n",
       " ('shall', 278),\n",
       " ('do', 272),\n",
       " ('her', 267),\n",
       " ('or', 262),\n",
       " ('if', 258),\n",
       " ('are', 253),\n",
       " ('our', 252),\n",
       " ('him', 248),\n",
       " ('when', 240),\n",
       " ('from', 236),\n",
       " ('no', 235),\n",
       " ('we', 233),\n",
       " ('antony.', 223),\n",
       " ('on', 207)]"
      ]
     },
     "execution_count": 113,
     "metadata": {},
     "output_type": "execute_result"
    }
   ],
   "source": [
    "\n",
    "dd=sorted(my_new_d.items(), key = lambda x: x[1], reverse=True)\n",
    "dd"
   ]
  },
  {
   "cell_type": "code",
   "execution_count": 34,
   "metadata": {},
   "outputs": [
    {
     "data": {
      "text/plain": [
       "1"
      ]
     },
     "execution_count": 34,
     "metadata": {},
     "output_type": "execute_result"
    }
   ],
   "source": [
    "d[\"guidelines\"]"
   ]
  },
  {
   "cell_type": "code",
   "execution_count": 129,
   "metadata": {
    "slideshow": {
     "slide_type": "slide"
    }
   },
   "outputs": [],
   "source": [
    "# This will write freqs to a file\n",
    "lines=open(\"shakespeare.txt\", \"r\").readlines()\n",
    "# We only take the top 1000 lines\n",
    "sentences=lines[:10000]\n",
    "#freqs=get_dict(sentences)\n",
    "freqs=get_dict(lines)\n",
    "\n",
    "lt=freqs.items()\n",
    "\n",
    "my_new_d= keep_top_n(lt, n=200)\n",
    "\n",
    "d=sorted(my_new_d.items(), key = lambda x: x[1], reverse=True) # \"d\" is now a list of tuples!\n",
    "word_freqs=open(\"./more_frequent_words.txt\", \"w\")\n",
    "for i in d:\n",
    "    # For readability\n",
    "    w=i[0]\n",
    "    freq=i[-1]\n",
    "    word_freqs.write(w+\"\\t\"+str(freq)+\"\\n\")\n",
    "word_freqs.close()\n",
    "    "
   ]
  },
  {
   "cell_type": "code",
   "execution_count": 118,
   "metadata": {},
   "outputs": [
    {
     "data": {
      "text/plain": [
       "dict_items"
      ]
     },
     "execution_count": 118,
     "metadata": {},
     "output_type": "execute_result"
    }
   ],
   "source": [
    "type(lt)"
   ]
  },
  {
   "cell_type": "code",
   "execution_count": 119,
   "metadata": {},
   "outputs": [
    {
     "data": {
      "text/plain": [
       "dict"
      ]
     },
     "execution_count": 119,
     "metadata": {},
     "output_type": "execute_result"
    }
   ],
   "source": [
    "type(my_new_d)"
   ]
  },
  {
   "cell_type": "code",
   "execution_count": 120,
   "metadata": {},
   "outputs": [
    {
     "name": "stdout",
     "output_type": "stream",
     "text": [
      "the     27729\u001b=\n",
      "and     26099\n",
      "i       19540\n",
      "to      18763\n",
      "of      18126\n",
      "a       14436\n",
      "my      12455\n",
      "in      10730\n",
      "you     10696\n",
      "that    10501\n",
      "is      9168\n",
      "for     8000\n",
      "with    7981\n",
      "not     7663\n",
      "your    6878\n",
      "his     6749\n",
      "be      6717\n",
      "this    5930\n",
      "as      5893\n",
      "but     5891\n",
      "he      5886\n",
      "it      5879\n",
      "have    5683\n",
      "\u001b[Kthou    5138xt\u001b[m\u001b[K\u0007\n",
      ":\u001b[K"
     ]
    }
   ],
   "source": [
    "!less \"word_list.txt\""
   ]
  },
  {
   "cell_type": "code",
   "execution_count": 133,
   "metadata": {},
   "outputs": [
    {
     "name": "stdout",
     "output_type": "stream",
     "text": [
      "the     27729\u001b=\n",
      "and     26099\n",
      "i       19540\n",
      "to      18763\n",
      "of      18126\n",
      "a       14436\n",
      "my      12455\n",
      "in      10730\n",
      "you     10696\n",
      "that    10501\n",
      "is      9168\n",
      "for     8000\n",
      "with    7981\n",
      "not     7663\n",
      "your    6878\n",
      "his     6749\n",
      "be      6717\n",
      "this    5930\n",
      "as      5893\n",
      "but     5891\n",
      "he      5886\n",
      "it      5879\n",
      "have    5683\n",
      "\u001b[Kthou    5138nt_words.txt\u001b[m\u001b[K\u0007\n",
      ":\u001b[K"
     ]
    }
   ],
   "source": [
    "!less \"more_frequent_words.txt\""
   ]
  },
  {
   "cell_type": "markdown",
   "metadata": {
    "slideshow": {
     "slide_type": "slide"
    }
   },
   "source": [
    "# Excercice\n",
    "* Download the file \"pos.swn.txt\" from Canvas >> Files > data\n",
    "* Write a function that reads the file lines into a list.\n",
    "\n",
    "* Your function should:\n",
    "* a. Keep only the first 20 lines in the list.\n",
    "* b. Replace \"_\" with a space \" \"\n",
    "* c. return the list\n",
    "\n",
    "* Call the function and print the list\n"
   ]
  }
 ],
 "metadata": {
  "celltoolbar": "Slideshow",
  "kernelspec": {
   "display_name": "Python 3",
   "language": "python",
   "name": "python3"
  },
  "language_info": {
   "codemirror_mode": {
    "name": "ipython",
    "version": 3
   },
   "file_extension": ".py",
   "mimetype": "text/x-python",
   "name": "python",
   "nbconvert_exporter": "python",
   "pygments_lexer": "ipython3",
   "version": "3.6.8"
  }
 },
 "nbformat": 4,
 "nbformat_minor": 1
}
