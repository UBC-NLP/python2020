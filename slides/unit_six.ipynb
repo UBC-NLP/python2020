{
 "cells": [
  {
   "cell_type": "markdown",
   "metadata": {
    "slideshow": {
     "slide_type": "slide"
    }
   },
   "source": [
    "# Conditionals & Loops"
   ]
  },
  {
   "cell_type": "markdown",
   "metadata": {
    "slideshow": {
     "slide_type": "slide"
    }
   },
   "source": [
    "* We can print items in a list using a \"for\" loop."
   ]
  },
  {
   "cell_type": "code",
   "execution_count": 1,
   "metadata": {
    "slideshow": {
     "slide_type": "slide"
    }
   },
   "outputs": [
    {
     "name": "stdout",
     "output_type": "stream",
     "text": [
      "apple\n",
      "strawberry\n",
      "grapes\n"
     ]
    }
   ],
   "source": [
    "fruits=[\"apple\", \"strawberry\", \"grapes\"]\n",
    "for i in fruits:\n",
    "    print(i)"
   ]
  },
  {
   "cell_type": "code",
   "execution_count": 3,
   "metadata": {},
   "outputs": [
    {
     "name": "stdout",
     "output_type": "stream",
     "text": [
      "3\n"
     ]
    }
   ],
   "source": [
    "# Count how many times the character \"e\" occurs in the list \"fruits\"\n",
    "fruits=[\"apple\", \"strawberry\", \"grapes\"]\n",
    "\n",
    "count_e=0 # create a counter \n",
    "\n",
    "for i in fruits:\n",
    "    count_e += i.count('e')\n",
    "print(count_e)"
   ]
  },
  {
   "cell_type": "code",
   "execution_count": 1,
   "metadata": {},
   "outputs": [
    {
     "data": {
      "text/plain": [
       "2"
      ]
     },
     "execution_count": 1,
     "metadata": {},
     "output_type": "execute_result"
    }
   ],
   "source": [
    "text=\"I love Python.\"\n",
    "text.count(\"o\")"
   ]
  },
  {
   "cell_type": "code",
   "execution_count": 2,
   "metadata": {},
   "outputs": [
    {
     "name": "stdout",
     "output_type": "stream",
     "text": [
      "1\n",
      "1\n",
      "1\n"
     ]
    }
   ],
   "source": [
    "fruits=[\"apple\", \"strawberry\", \"grapes\"]\n",
    "for i in fruits:\n",
    "    print(i.count(\"e\"))"
   ]
  },
  {
   "cell_type": "code",
   "execution_count": 3,
   "metadata": {},
   "outputs": [
    {
     "name": "stdout",
     "output_type": "stream",
     "text": [
      "0\n",
      "3\n",
      "1\n"
     ]
    }
   ],
   "source": [
    "fruits=[\"apple\", \"strawberry\", \"grapes\"]\n",
    "for i in fruits:\n",
    "    print(i.count(\"r\"))"
   ]
  },
  {
   "cell_type": "code",
   "execution_count": 6,
   "metadata": {},
   "outputs": [
    {
     "name": "stdout",
     "output_type": "stream",
     "text": [
      "Value of x:  0\n",
      "Value of : total_r 0\n",
      "Value of x:  3\n",
      "Value of : total_r 3\n",
      "Value of x:  1\n",
      "Value of : total_r 4\n"
     ]
    }
   ],
   "source": [
    "fruits=[\"apple\", \"strawberry\", \"grapes\"]\n",
    "total_r=0\n",
    "\n",
    "for i in fruits:\n",
    "    x= i.count(\"r\")\n",
    "    total_r= total_r + x\n",
    "    print(\"Value of x: \", x)\n",
    "    print(\"Value of : total_r\", total_r)"
   ]
  },
  {
   "cell_type": "code",
   "execution_count": 8,
   "metadata": {},
   "outputs": [
    {
     "name": "stdout",
     "output_type": "stream",
     "text": [
      "apple strawberry grapes\n",
      "23\n"
     ]
    }
   ],
   "source": [
    "fruits=[\"apple\", \"strawberry\", \"grapes\"]\n",
    "text=\" \".join(fruits)\n",
    "print(text)\n",
    "print(len(text))"
   ]
  },
  {
   "cell_type": "code",
   "execution_count": 9,
   "metadata": {},
   "outputs": [
    {
     "data": {
      "text/plain": [
       "3"
      ]
     },
     "execution_count": 9,
     "metadata": {},
     "output_type": "execute_result"
    }
   ],
   "source": [
    "len(fruits)"
   ]
  },
  {
   "cell_type": "code",
   "execution_count": 11,
   "metadata": {},
   "outputs": [],
   "source": [
    "text=\"__\".join(fruits)"
   ]
  },
  {
   "cell_type": "code",
   "execution_count": 12,
   "metadata": {},
   "outputs": [
    {
     "data": {
      "text/plain": [
       "'apple__strawberry__grapes'"
      ]
     },
     "execution_count": 12,
     "metadata": {},
     "output_type": "execute_result"
    }
   ],
   "source": [
    "text"
   ]
  },
  {
   "cell_type": "code",
   "execution_count": 4,
   "metadata": {},
   "outputs": [
    {
     "name": "stdout",
     "output_type": "stream",
     "text": [
      "3\n"
     ]
    }
   ],
   "source": [
    "fruits=[\"apple\", \"strawberry\", \"grapes\"]\n",
    "\n",
    "text=\" \".join(fruits)\n",
    "total = text.count(\"e\")\n",
    "print(total)\n",
    "        "
   ]
  },
  {
   "cell_type": "markdown",
   "metadata": {
    "slideshow": {
     "slide_type": "slide"
    }
   },
   "source": [
    "## Printing with conditions"
   ]
  },
  {
   "cell_type": "code",
   "execution_count": 2,
   "metadata": {
    "slideshow": {
     "slide_type": "fragment"
    }
   },
   "outputs": [
    {
     "name": "stdout",
     "output_type": "stream",
     "text": [
      "apple\n",
      "grapes\n"
     ]
    }
   ],
   "source": [
    "fruits=[\"apple\", \"strawberry\", \"grapes\"]\n",
    "for i in fruits:\n",
    "    if \"p\" in i:\n",
    "        print(i)"
   ]
  },
  {
   "cell_type": "code",
   "execution_count": 3,
   "metadata": {
    "slideshow": {
     "slide_type": "slide"
    }
   },
   "outputs": [
    {
     "name": "stdout",
     "output_type": "stream",
     "text": [
      "apple\n"
     ]
    }
   ],
   "source": [
    "fruits=[\"apple\", \"strawberry\", \"grapes\"]\n",
    "for i in fruits:\n",
    "    if \"pp\" in i:\n",
    "        print(i)"
   ]
  },
  {
   "cell_type": "code",
   "execution_count": 6,
   "metadata": {
    "slideshow": {
     "slide_type": "slide"
    }
   },
   "outputs": [
    {
     "name": "stdout",
     "output_type": "stream",
     "text": [
      "grapes\n"
     ]
    }
   ],
   "source": [
    "fruits=[\"apple\", \"strawberry\", \"grapes\"]\n",
    "for i in fruits:\n",
    "    if \"p\" in i and i.endswith(\"s\"): # The two conditions MUST be True\n",
    "        print(i)"
   ]
  },
  {
   "cell_type": "code",
   "execution_count": 14,
   "metadata": {},
   "outputs": [
    {
     "name": "stdout",
     "output_type": "stream",
     "text": [
      "{'apple': 1, 'strawberry': 1, 'grapes': 1}\n"
     ]
    }
   ],
   "source": [
    "fruits=[\"apple\", \"strawberry\", \"grapes\"]\n",
    "\n",
    "gold= [\"a\", \"e\"] # vowels\n",
    "\n",
    "outcome={}\n",
    "\n",
    "for i in fruits:\n",
    "    for c in gold: # nested loop: for example, when we look at \"apple\", we will also visit \"a\", \"s\", \"e\"\n",
    "        if c in i:\n",
    "            outcome[i]=1\n",
    "\n",
    "print(outcome)"
   ]
  },
  {
   "cell_type": "code",
   "execution_count": 22,
   "metadata": {},
   "outputs": [
    {
     "name": "stdout",
     "output_type": "stream",
     "text": [
      "This is the outer apple  This is the inner a | This is the inner e | \n",
      "This is the outer strawberry  This is the inner a | This is the inner e | \n",
      "This is the outer grapes  This is the inner a | This is the inner e | \n"
     ]
    }
   ],
   "source": [
    "for i in fruits:\n",
    "    print(\"This is the outer\", i, end=\"  \")\n",
    "    for c in gold: \n",
    "        print(\"This is the inner\", c, end=\" | \")\n",
    "    print()"
   ]
  },
  {
   "cell_type": "code",
   "execution_count": 7,
   "metadata": {
    "slideshow": {
     "slide_type": "slide"
    }
   },
   "outputs": [
    {
     "name": "stdout",
     "output_type": "stream",
     "text": [
      "GRAPES\n"
     ]
    }
   ],
   "source": [
    "fruits=[\"apple\", \"strawberry\", \"grapes\"]\n",
    "for i in fruits:\n",
    "    if \"p\" in i and i.endswith(\"s\"):\n",
    "        print(i.upper())"
   ]
  },
  {
   "cell_type": "code",
   "execution_count": 9,
   "metadata": {
    "slideshow": {
     "slide_type": "slide"
    }
   },
   "outputs": [
    {
     "name": "stdout",
     "output_type": "stream",
     "text": [
      "strawberry\n"
     ]
    }
   ],
   "source": [
    "fruits=[\"apple\", \"strawberry\", \"grapes\"]\n",
    "for i in fruits:\n",
    "    if len(i) > 6:\n",
    "        print(i)"
   ]
  },
  {
   "cell_type": "code",
   "execution_count": 13,
   "metadata": {
    "slideshow": {
     "slide_type": "slide"
    }
   },
   "outputs": [
    {
     "name": "stdout",
     "output_type": "stream",
     "text": [
      "('strawberry', 10)\n"
     ]
    }
   ],
   "source": [
    "fruits=[\"apple\", \"strawberry\", \"grapes\"]\n",
    "for i in fruits:\n",
    "    if len(i) > 6:\n",
    "        print(i, len(i))"
   ]
  },
  {
   "cell_type": "code",
   "execution_count": 16,
   "metadata": {
    "slideshow": {
     "slide_type": "slide"
    }
   },
   "outputs": [
    {
     "name": "stdout",
     "output_type": "stream",
     "text": [
      "Item with length > 6 is strawberry.\n"
     ]
    }
   ],
   "source": [
    "fruits=[\"apple\", \"strawberry\", \"grapes\"]\n",
    "for i in fruits:\n",
    "    if len(i) > 6:\n",
    "        print(\"Item with length > 6 is {}.\").format(i)"
   ]
  },
  {
   "cell_type": "code",
   "execution_count": 20,
   "metadata": {
    "slideshow": {
     "slide_type": "slide"
    }
   },
   "outputs": [
    {
     "name": "stdout",
     "output_type": "stream",
     "text": [
      "- \"apple\" has length 5.\n",
      "- \"strawberry\" has length 10.\n",
      "- \"grapes\" has length 6.\n"
     ]
    }
   ],
   "source": [
    "fruits=[\"apple\", \"strawberry\", \"grapes\"]\n",
    "for i in fruits:\n",
    "    print(\"- \\\"{}\\\" has length {}.\").format(i, len(i))"
   ]
  },
  {
   "cell_type": "markdown",
   "metadata": {
    "slideshow": {
     "slide_type": "slide"
    }
   },
   "source": [
    "## Excercise"
   ]
  },
  {
   "cell_type": "markdown",
   "metadata": {
    "slideshow": {
     "slide_type": "fragment"
    }
   },
   "source": [
    "* Create a list with five items (e.g., names of flowers)\n",
    "* Print all items in the list that have length > 5 characters\n",
    "* Print items that have the letter \"s\" or \"t\" in them\n",
    "* Use a \"for\" loop to print all the items in the list\n",
    "* Use a \"for\" loop to print only the last two items in the list"
   ]
  },
  {
   "cell_type": "code",
   "execution_count": 26,
   "metadata": {},
   "outputs": [
    {
     "name": "stdout",
     "output_type": "stream",
     "text": [
      "apple\n"
     ]
    }
   ],
   "source": [
    "l=[\"apple\", \"IBM\"]\n",
    "for i in l:\n",
    "    if \"a\" in i or \"k\" in i:\n",
    "        print(i)"
   ]
  },
  {
   "cell_type": "code",
   "execution_count": 27,
   "metadata": {},
   "outputs": [
    {
     "data": {
      "text/plain": [
       "'apple'"
      ]
     },
     "execution_count": 27,
     "metadata": {},
     "output_type": "execute_result"
    }
   ],
   "source": [
    "l[0]"
   ]
  },
  {
   "cell_type": "code",
   "execution_count": 28,
   "metadata": {},
   "outputs": [
    {
     "data": {
      "text/plain": [
       "'IBM'"
      ]
     },
     "execution_count": 28,
     "metadata": {},
     "output_type": "execute_result"
    }
   ],
   "source": [
    "l[-1]"
   ]
  },
  {
   "cell_type": "code",
   "execution_count": 29,
   "metadata": {},
   "outputs": [
    {
     "data": {
      "text/plain": [
       "['Apple', 'Facebook']"
      ]
     },
     "execution_count": 29,
     "metadata": {},
     "output_type": "execute_result"
    }
   ],
   "source": [
    "ll= [\"Apple\", \"Facebook\", \"Google\", \"Amazon\"]\n",
    "ll[:2]"
   ]
  },
  {
   "cell_type": "code",
   "execution_count": 31,
   "metadata": {},
   "outputs": [
    {
     "data": {
      "text/plain": [
       "['Facebook', 'Google']"
      ]
     },
     "execution_count": 31,
     "metadata": {},
     "output_type": "execute_result"
    }
   ],
   "source": [
    "ll[-3:-1]"
   ]
  },
  {
   "cell_type": "code",
   "execution_count": 32,
   "metadata": {},
   "outputs": [
    {
     "data": {
      "text/plain": [
       "['Facebook', 'Google', 'Amazon']"
      ]
     },
     "execution_count": 32,
     "metadata": {},
     "output_type": "execute_result"
    }
   ],
   "source": [
    "ll[-3:]"
   ]
  },
  {
   "cell_type": "code",
   "execution_count": 33,
   "metadata": {},
   "outputs": [
    {
     "data": {
      "text/plain": [
       "['Google', 'Amazon']"
      ]
     },
     "execution_count": 33,
     "metadata": {},
     "output_type": "execute_result"
    }
   ],
   "source": [
    "ll[-2:]"
   ]
  },
  {
   "cell_type": "code",
   "execution_count": null,
   "metadata": {},
   "outputs": [],
   "source": []
  },
  {
   "cell_type": "markdown",
   "metadata": {
    "slideshow": {
     "slide_type": "slide"
    }
   },
   "source": [
    "## Boolean / Truth Values"
   ]
  },
  {
   "cell_type": "markdown",
   "metadata": {
    "slideshow": {
     "slide_type": "fragment"
    }
   },
   "source": [
    "* The following values are considered by the interpreter to mean \"false\" when evaluated as a Boolean expression.\n",
    "* False, None, 0, \"\", (), [], {}\n",
    "* An example of a boolean expression is the condition of an if statement."
   ]
  },
  {
   "cell_type": "code",
   "execution_count": 22,
   "metadata": {
    "slideshow": {
     "slide_type": "slide"
    }
   },
   "outputs": [
    {
     "name": "stdout",
     "output_type": "stream",
     "text": [
      "There is no name!\n"
     ]
    }
   ],
   "source": [
    "name=\"\"\n",
    "if not name: # not \"False\" --> evaluates to \"True\"\n",
    "    print(\"There is no name!\")"
   ]
  },
  {
   "cell_type": "code",
   "execution_count": 23,
   "metadata": {
    "slideshow": {
     "slide_type": "slide"
    }
   },
   "outputs": [
    {
     "data": {
      "text/plain": [
       "''"
      ]
     },
     "execution_count": 23,
     "metadata": {},
     "output_type": "execute_result"
    }
   ],
   "source": [
    "name"
   ]
  },
  {
   "cell_type": "code",
   "execution_count": 42,
   "metadata": {},
   "outputs": [],
   "source": [
    "name=\"\"\n",
    "if name: # name evaluates to \"False\"\n",
    "    print(\"There is a name!\")"
   ]
  },
  {
   "cell_type": "code",
   "execution_count": 43,
   "metadata": {},
   "outputs": [
    {
     "name": "stdout",
     "output_type": "stream",
     "text": [
      "There is a name!\n"
     ]
    }
   ],
   "source": [
    "name=\"Python\"\n",
    "if name: # name evaluates to \"True\"\n",
    "    print(\"There is a name!\")"
   ]
  },
  {
   "cell_type": "code",
   "execution_count": 25,
   "metadata": {
    "slideshow": {
     "slide_type": "slide"
    }
   },
   "outputs": [
    {
     "name": "stdout",
     "output_type": "stream",
     "text": [
      "There are no cities!\n"
     ]
    }
   ],
   "source": [
    "cities=[]\n",
    "if not cities: # not \"False\" evaluates to \"True\"\n",
    "    print(\"There are no cities!\")"
   ]
  },
  {
   "cell_type": "code",
   "execution_count": 44,
   "metadata": {},
   "outputs": [],
   "source": [
    "cities=[]\n",
    "if cities: # empty list evaluates to \"False\" | Code will only print something if \"cities\" is not empty (\"True\")\n",
    "    print(\"There are no cities!\")"
   ]
  },
  {
   "cell_type": "code",
   "execution_count": 45,
   "metadata": {},
   "outputs": [
    {
     "data": {
      "text/plain": [
       "['apple', 'strawberry', 'grapes']"
      ]
     },
     "execution_count": 45,
     "metadata": {},
     "output_type": "execute_result"
    }
   ],
   "source": [
    "fruits"
   ]
  },
  {
   "cell_type": "code",
   "execution_count": 46,
   "metadata": {},
   "outputs": [],
   "source": [
    "if \"oranges\" in fruits: # Will print nothing, since condition is not \"True\"\n",
    "    print(\"I will make orange juice!\")"
   ]
  },
  {
   "cell_type": "markdown",
   "metadata": {
    "slideshow": {
     "slide_type": "slide"
    }
   },
   "source": [
    "## else Clause"
   ]
  },
  {
   "cell_type": "code",
   "execution_count": 37,
   "metadata": {},
   "outputs": [
    {
     "name": "stdout",
     "output_type": "stream",
     "text": [
      "strawberry\n",
      "grapes\n"
     ]
    }
   ],
   "source": [
    "fruits=[\"apple\", \"strawberry\", \"grapes\"]\n",
    "for i in fruits:\n",
    "    if \"s\" in i:\n",
    "        print(i)"
   ]
  },
  {
   "cell_type": "code",
   "execution_count": 39,
   "metadata": {},
   "outputs": [
    {
     "name": "stdout",
     "output_type": "stream",
     "text": [
      "apple  --> sour fruit\n",
      "strawberry  --> sweet fruit\n",
      "grapes  --> sour fruit\n"
     ]
    }
   ],
   "source": [
    "fruits=[\"apple\", \"strawberry\", \"grapes\"]\n",
    "for i in fruits:\n",
    "    if i == \"strawberry\": # Two equal signs (\"==\") are used for comparison in Python\n",
    "        print(i, \" --> sweet fruit\")\n",
    "    else:  # All other cases\n",
    "        print(i, \" --> sour fruit\")"
   ]
  },
  {
   "cell_type": "code",
   "execution_count": 41,
   "metadata": {},
   "outputs": [
    {
     "name": "stdout",
     "output_type": "stream",
     "text": [
      "strawberry  --> sweet fruit\n",
      "grapes  --> sour fruit\n"
     ]
    }
   ],
   "source": [
    "fruits=[\"apple\", \"strawberry\", \"grapes\"]\n",
    "for i in fruits:\n",
    "    if i== \"strawberry\":\n",
    "        print(i, \" --> sweet fruit\")\n",
    "    else:\n",
    "        if not i ==\"apple\":\n",
    "            print(i, \" --> sour fruit\")"
   ]
  },
  {
   "cell_type": "code",
   "execution_count": 26,
   "metadata": {
    "slideshow": {
     "slide_type": "fragment"
    }
   },
   "outputs": [
    {
     "name": "stdout",
     "output_type": "stream",
     "text": [
      "There are no cities!\n"
     ]
    }
   ],
   "source": [
    "cities=[]\n",
    "if cities:\n",
    "    print(\"There are\", len(cities), \"cities!\")\n",
    "else:\n",
    "    print(\"There are no cities!\")"
   ]
  },
  {
   "cell_type": "code",
   "execution_count": 27,
   "metadata": {
    "slideshow": {
     "slide_type": "slide"
    }
   },
   "outputs": [
    {
     "name": "stdout",
     "output_type": "stream",
     "text": [
      "('There are', 5, 'cities!')\n"
     ]
    }
   ],
   "source": [
    "cities=[\"Vancouver\", \"Seattle\", \"Florida\", \"Toronto\", \"NYC\"]\n",
    "if cities:\n",
    "    print(\"There are\", len(cities), \"cities!\")\n",
    "else:\n",
    "    print(\"There are no cities!\")"
   ]
  },
  {
   "cell_type": "markdown",
   "metadata": {
    "slideshow": {
     "slide_type": "slide"
    }
   },
   "source": [
    "## elif"
   ]
  },
  {
   "cell_type": "code",
   "execution_count": 28,
   "metadata": {
    "slideshow": {
     "slide_type": "fragment"
    }
   },
   "outputs": [
    {
     "name": "stdout",
     "output_type": "stream",
     "text": [
      "('Vancouver', 'is really beautiful!')\n",
      "('Seattle', 'is a nice city!')\n",
      "('Orlando', 'is in the sunshine state!')\n",
      "('Toronto', 'is a nice city!')\n",
      "('NYC', 'is a nice city!')\n"
     ]
    }
   ],
   "source": [
    "cities=[\"Vancouver\", \"Seattle\", \"Orlando\", \"Toronto\", \"NYC\"]\n",
    "for i in cities:\n",
    "    if i.startswith(\"O\"):\n",
    "        print(i, \"is in the sunshine state!\")\n",
    "    elif i.startswith(\"V\"):\n",
    "        print(i, \"is really beautiful!\")\n",
    "    else:\n",
    "        print(i, \"is a nice city!\")"
   ]
  },
  {
   "cell_type": "markdown",
   "metadata": {
    "slideshow": {
     "slide_type": "slide"
    }
   },
   "source": [
    "## Nested Blocks"
   ]
  },
  {
   "cell_type": "code",
   "execution_count": 30,
   "metadata": {
    "slideshow": {
     "slide_type": "fragment"
    }
   },
   "outputs": [
    {
     "name": "stdout",
     "output_type": "stream",
     "text": [
      "('Orlando', 'is in the U.S.!')\n",
      "('Oakville', 'is in Canada!')\n",
      "('Oakland', 'is in the U.S.!')\n"
     ]
    }
   ],
   "source": [
    "cities=[\"Vancouver\", \"Seattle\", \"Orlando\", \"Toronto\", \"NYC\", \"Oakville\", \"Oakland\"]\n",
    "canadian={\"Vancouver\": 0, \"Toronto\": 0, \"Oakville\": 0}\n",
    "# us={\"Seattle\": 0, \"Orlando\": 0, \"NYC\": 0, \"Oakland\": 0}\n",
    "for i in cities:\n",
    "    if i.startswith(\"O\"):\n",
    "        if i in canadian:\n",
    "            print(i, \"is in Canada!\")\n",
    "        else:\n",
    "            print(i, \"is in the U.S.!\")"
   ]
  },
  {
   "cell_type": "markdown",
   "metadata": {
    "slideshow": {
     "slide_type": "slide"
    }
   },
   "source": [
    "## Conditions with \"and\" & \"or\""
   ]
  },
  {
   "cell_type": "code",
   "execution_count": 6,
   "metadata": {
    "slideshow": {
     "slide_type": "slide"
    }
   },
   "outputs": [
    {
     "name": "stdout",
     "output_type": "stream",
     "text": [
      "xz\n"
     ]
    }
   ],
   "source": [
    "my_dict={\"aaaa\":10, \"b\":20, \"zi\":20, \"xz\":55, \"ss\":55}\n",
    "for k in my_dict:\n",
    "    if len(k)==2 and k.endswith(\"z\"):\n",
    "        print(k)"
   ]
  },
  {
   "cell_type": "code",
   "execution_count": 34,
   "metadata": {},
   "outputs": [
    {
     "name": "stdout",
     "output_type": "stream",
     "text": [
      "bz\n",
      "xz\n",
      "sss\n"
     ]
    }
   ],
   "source": [
    "my_dict={\"aaaa\":10, \"b\":20, \"bz\":20, \"xz\":55, \"sss\":55}\n",
    "for k in my_dict:\n",
    "    if ( len(k)==2 and k.endswith(\"z\") ) or k.startswith(\"s\"): # Note use of parantheses\n",
    "        print(k)"
   ]
  },
  {
   "cell_type": "code",
   "execution_count": 35,
   "metadata": {},
   "outputs": [
    {
     "name": "stdout",
     "output_type": "stream",
     "text": [
      "bz\n",
      "xz\n"
     ]
    }
   ],
   "source": [
    "my_dict={\"aaaa\":10, \"b\":20, \"bz\":20, \"xz\":55, \"sss\":55}\n",
    "for k in my_dict:\n",
    "    if len(k)==2 and ( k.endswith(\"z\")  or k.startswith(\"s\") ): # Note use of parantheses\n",
    "        print(k)"
   ]
  },
  {
   "cell_type": "code",
   "execution_count": 36,
   "metadata": {},
   "outputs": [
    {
     "name": "stdout",
     "output_type": "stream",
     "text": [
      "bz\n",
      "xz\n",
      "sss\n"
     ]
    }
   ],
   "source": [
    "my_dict={\"aaaa\":10, \"b\":20, \"bz\":20, \"xz\":55, \"sss\":55}\n",
    "for k in my_dict:\n",
    "    if len(k)==2 and k.endswith(\"z\")  or k.startswith(\"s\"): # Note: No parantheses around conditions\n",
    "        print(k)"
   ]
  },
  {
   "cell_type": "markdown",
   "metadata": {
    "slideshow": {
     "slide_type": "slide"
    }
   },
   "source": [
    "# List Comprehension"
   ]
  },
  {
   "cell_type": "code",
   "execution_count": 8,
   "metadata": {
    "slideshow": {
     "slide_type": "slide"
    }
   },
   "outputs": [
    {
     "name": "stdout",
     "output_type": "stream",
     "text": [
      "s t r a w b e r r y\n"
     ]
    }
   ],
   "source": [
    "dessert=\"strawberry\"\n",
    "for c in dessert:\n",
    "    print(c),"
   ]
  },
  {
   "cell_type": "code",
   "execution_count": 9,
   "metadata": {},
   "outputs": [
    {
     "name": "stdout",
     "output_type": "stream",
     "text": [
      "['s', 't', 'r', 'a', 'w', 'b', 'e', 'r', 'r', 'y']\n"
     ]
    }
   ],
   "source": [
    "dessert=\"strawberry\"\n",
    "chars=[]\n",
    "for c in dessert:\n",
    "    chars.append(c)\n",
    "print(chars)"
   ]
  },
  {
   "cell_type": "code",
   "execution_count": 10,
   "metadata": {
    "slideshow": {
     "slide_type": "fragment"
    }
   },
   "outputs": [
    {
     "name": "stdout",
     "output_type": "stream",
     "text": [
      "['s', 't', 'r', 'a', 'w', 'b', 'e', 'r', 'r', 'y']\n"
     ]
    }
   ],
   "source": [
    "dessert=\"strawberry\"\n",
    "chars=[c for c in dessert]\n",
    "print(chars)"
   ]
  },
  {
   "cell_type": "code",
   "execution_count": 21,
   "metadata": {
    "slideshow": {
     "slide_type": "slide"
    }
   },
   "outputs": [
    {
     "name": "stdout",
     "output_type": "stream",
     "text": [
      "['s', 't', 'r', 'w', 'b', 'r', 'r']\n"
     ]
    }
   ],
   "source": [
    "# With a condition\n",
    "dessert=\"strawberry\"\n",
    "vowels=[\"a\", \"e\", \"y\"]\n",
    "chars=[c for c in dessert if c not in vowels]\n",
    "print(chars)"
   ]
  },
  {
   "cell_type": "code",
   "execution_count": 61,
   "metadata": {
    "scrolled": true,
    "slideshow": {
     "slide_type": "slide"
    }
   },
   "outputs": [
    {
     "name": "stdout",
     "output_type": "stream",
     "text": [
      "k\n",
      "i\n",
      "n\n",
      "g\n",
      "['i', 'n', 'g']\n"
     ]
    }
   ],
   "source": [
    "for c in \"king\":\n",
    "    print(c)\n",
    "    \n",
    "x=[c for c in \"king\" if c !=\"k\"]\n",
    "print x"
   ]
  },
  {
   "cell_type": "code",
   "execution_count": 1,
   "metadata": {},
   "outputs": [
    {
     "name": "stdout",
     "output_type": "stream",
     "text": [
      "Vancouver\n",
      "Orlando\n",
      "Toronto\n"
     ]
    }
   ],
   "source": [
    "cities=[\"Vancouver\", \"Seattle\", \"Orlando\", \"Toronto\", \"NYC\"]\n",
    "for i in cities:\n",
    "    if \"o\" in i:\n",
    "        print(i)"
   ]
  },
  {
   "cell_type": "code",
   "execution_count": 12,
   "metadata": {},
   "outputs": [
    {
     "name": "stdout",
     "output_type": "stream",
     "text": [
      "Vancouver\n",
      "Seattle\n",
      "Orlando\n",
      "Toronto\n",
      "NYC\n"
     ]
    }
   ],
   "source": [
    "cities=[\"Vancouver\", \"Seattle\", \"Orlando\", \"Toronto\", \"NYC\"]\n",
    "for i in cities:\n",
    "    # Here \"K\" evaluates to \"True\" and so the condition is satisfied every time we loop, and so it doesn't look\n",
    "    # at the \"or\" condition at all, and prints all items in the list\n",
    "    if \"k\" or \"z\" in i:\n",
    "        print(i)"
   ]
  },
  {
   "cell_type": "code",
   "execution_count": 14,
   "metadata": {},
   "outputs": [],
   "source": [
    "cities=[\"Vancouver\", \"Seattle\", \"Orlando\", \"Toronto\", \"NYC\"]\n",
    "for i in cities:\n",
    "    # Neither condition is true, so it doesn't print out anything\n",
    "    if \"k\" in i or \"z\" in i:\n",
    "        print(i)"
   ]
  },
  {
   "cell_type": "code",
   "execution_count": 17,
   "metadata": {},
   "outputs": [
    {
     "name": "stdout",
     "output_type": "stream",
     "text": [
      "Hello\n"
     ]
    }
   ],
   "source": [
    "# A condition that evaluates to \"True\"\n",
    "if \"K\": \n",
    "    print(\"Hello\")"
   ]
  },
  {
   "cell_type": "code",
   "execution_count": 18,
   "metadata": {},
   "outputs": [],
   "source": [
    "# Evaluates to \"False\", because the string is empty...\n",
    "if \"\": \n",
    "    print(\"Hello\")"
   ]
  },
  {
   "cell_type": "code",
   "execution_count": 3,
   "metadata": {
    "collapsed": true
   },
   "outputs": [],
   "source": [
    "cities=[\"Vancouver\", \"Seattle\", \"Orlando\", \"Toronto\", \"NYC\"]\n",
    "for i in cities:\n",
    "    if \"k\" in i or \"z\" in i:\n",
    "        print(i)"
   ]
  },
  {
   "cell_type": "code",
   "execution_count": 9,
   "metadata": {},
   "outputs": [
    {
     "name": "stdout",
     "output_type": "stream",
     "text": [
      "Vancouver\n",
      "Seattle\n",
      "Orlando\n",
      "Toronto\n",
      "NYC\n"
     ]
    }
   ],
   "source": [
    "t=(\"pear\")\n",
    "for i in cities:\n",
    "    if t:\n",
    "        print(i)"
   ]
  },
  {
   "cell_type": "code",
   "execution_count": 4,
   "metadata": {
    "collapsed": true
   },
   "outputs": [],
   "source": [
    "x=()\n",
    "for i in cities:\n",
    "    if x:\n",
    "        print(i)"
   ]
  },
  {
   "cell_type": "code",
   "execution_count": 3,
   "metadata": {
    "collapsed": true
   },
   "outputs": [],
   "source": [
    "for i in cities:\n",
    "    if \"k\" in i or \"z\" in i:\n",
    "        print(i)"
   ]
  },
  {
   "cell_type": "code",
   "execution_count": 4,
   "metadata": {},
   "outputs": [
    {
     "name": "stdout",
     "output_type": "stream",
     "text": [
      "Life is good\n"
     ]
    }
   ],
   "source": [
    "x=\"hello\"\n",
    "if x:\n",
    "    print(\"Life is good\")"
   ]
  },
  {
   "cell_type": "code",
   "execution_count": 5,
   "metadata": {},
   "outputs": [
    {
     "name": "stdout",
     "output_type": "stream",
     "text": [
      "Life is good!\n"
     ]
    }
   ],
   "source": [
    "if \"hello\":\n",
    "    print(\"Life is good!\")"
   ]
  },
  {
   "cell_type": "code",
   "execution_count": 6,
   "metadata": {},
   "outputs": [
    {
     "name": "stdout",
     "output_type": "stream",
     "text": [
      "Life is good\n"
     ]
    }
   ],
   "source": [
    "if \"k\":\n",
    "    print(\"Life is good\")"
   ]
  }
 ],
 "metadata": {
  "celltoolbar": "Slideshow",
  "kernelspec": {
   "display_name": "Python 3",
   "language": "python",
   "name": "python3"
  },
  "language_info": {
   "codemirror_mode": {
    "name": "ipython",
    "version": 3
   },
   "file_extension": ".py",
   "mimetype": "text/x-python",
   "name": "python",
   "nbconvert_exporter": "python",
   "pygments_lexer": "ipython3",
   "version": "3.6.8"
  }
 },
 "nbformat": 4,
 "nbformat_minor": 1
}
