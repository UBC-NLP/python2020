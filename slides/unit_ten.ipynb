{
 "cells": [
  {
   "cell_type": "markdown",
   "metadata": {
    "slideshow": {
     "slide_type": "slide"
    }
   },
   "source": [
    "# Modules"
   ]
  },
  {
   "cell_type": "markdown",
   "metadata": {
    "slideshow": {
     "slide_type": "slide"
    }
   },
   "source": [
    "* Simply put, **modules are programs**\n",
    "* Write some code in a file, save it, run it from command line.\n",
    "* **python hello.py** is an example run, if your file was named \"hello\".\n",
    "* Always have the **.py** extension to your Python files. "
   ]
  },
  {
   "cell_type": "code",
   "execution_count": 1,
   "metadata": {
    "slideshow": {
     "slide_type": "slide"
    }
   },
   "outputs": [
    {
     "name": "stdout",
     "output_type": "stream",
     "text": [
      "3.1622776601683795\n"
     ]
    }
   ],
   "source": [
    "import math\n",
    "sr_ten= math.sqrt(10)\n",
    "print(sr_ten)"
   ]
  },
  {
   "cell_type": "code",
   "execution_count": 2,
   "metadata": {
    "slideshow": {
     "slide_type": "slide"
    }
   },
   "outputs": [
    {
     "name": "stdout",
     "output_type": "stream",
     "text": [
      "3.16\n"
     ]
    }
   ],
   "source": [
    "# Round to 2 decimal points with \"round()\n",
    "import math\n",
    "sr_ten= math.sqrt(10)\n",
    "sr_ten=round(sr_ten, 2)\n",
    "print(sr_ten)"
   ]
  },
  {
   "cell_type": "code",
   "execution_count": 1,
   "metadata": {
    "slideshow": {
     "slide_type": "slide"
    }
   },
   "outputs": [
    {
     "name": "stdout",
     "output_type": "stream",
     "text": [
      "range(0, 5)\n"
     ]
    }
   ],
   "source": [
    "# Let's do a bunch:\n",
    "x=range(0,5)\n",
    "print(x)"
   ]
  },
  {
   "cell_type": "code",
   "execution_count": 3,
   "metadata": {},
   "outputs": [
    {
     "name": "stdout",
     "output_type": "stream",
     "text": [
      "0\n",
      "1\n",
      "2\n",
      "3\n",
      "4\n"
     ]
    }
   ],
   "source": [
    "for i in x:\n",
    "    print(i)"
   ]
  },
  {
   "cell_type": "code",
   "execution_count": 4,
   "metadata": {},
   "outputs": [
    {
     "name": "stdout",
     "output_type": "stream",
     "text": [
      "7\n",
      "8\n",
      "9\n",
      "10\n",
      "11\n",
      "12\n",
      "13\n",
      "14\n",
      "15\n",
      "16\n",
      "17\n",
      "18\n",
      "19\n",
      "20\n",
      "21\n",
      "22\n",
      "23\n",
      "24\n"
     ]
    }
   ],
   "source": [
    "y= range(7,25)\n",
    "for i in y:\n",
    "    print(i)"
   ]
  },
  {
   "cell_type": "code",
   "execution_count": 5,
   "metadata": {},
   "outputs": [
    {
     "name": "stdout",
     "output_type": "stream",
     "text": [
      "0\n",
      "1\n",
      "2\n",
      "3\n",
      "4\n",
      "5\n",
      "6\n",
      "7\n"
     ]
    }
   ],
   "source": [
    "for i in range(0,8):\n",
    "    print(i)"
   ]
  },
  {
   "cell_type": "code",
   "execution_count": 9,
   "metadata": {
    "slideshow": {
     "slide_type": "slide"
    }
   },
   "outputs": [
    {
     "name": "stdout",
     "output_type": "stream",
     "text": [
      "0 0.0\n",
      "1 1.0\n",
      "2 1.41\n",
      "3 1.73\n",
      "4 2.0\n"
     ]
    }
   ],
   "source": [
    "import math\n",
    "x=range(0,5)\n",
    "for i in x:\n",
    "    sr_i=round(math.sqrt(i),2)\n",
    "    print(i, sr_i)"
   ]
  },
  {
   "cell_type": "markdown",
   "metadata": {
    "slideshow": {
     "slide_type": "slide"
    }
   },
   "source": [
    "**Excercise**\n",
    "* Starting from a fresh file, write a function **square_nums** that takes a list of numbers between 0 and 10 as input, squares each it in the list, and returns another list with all the squared numbers.\n",
    "* Call your function, harvesting the returned squared list in a variable **my_squared_list**.\n",
    "* Print the items of **my_squared_list**\n",
    "* Save your file as **square.py**\n",
    "* From the command line, run your script (Hint: run **python square.py**) "
   ]
  },
  {
   "cell_type": "code",
   "execution_count": 5,
   "metadata": {
    "slideshow": {
     "slide_type": "slide"
    }
   },
   "outputs": [
    {
     "name": "stdout",
     "output_type": "stream",
     "text": [
      "Original list: range(0, 11)\n",
      "Square rooted: [0.0, 1.0, 1.41, 1.73, 2.0, 2.24, 2.45, 2.65, 2.83, 3.0, 3.16]\n"
     ]
    }
   ],
   "source": [
    "import math\n",
    "nums_list=range(0,11)\n",
    "print(\"Original list: {}\".format(nums_list))\n",
    "def square_rt_nums(nums_list):\n",
    "    my_squared_list=[ round(math.sqrt(i), 2) for i in nums_list]\n",
    "    return my_squared_list\n",
    "\n",
    "x=square_rt_nums(nums_list)  \n",
    "print(\"Square rooted: {}\".format(x))\n"
   ]
  },
  {
   "cell_type": "code",
   "execution_count": 6,
   "metadata": {},
   "outputs": [
    {
     "name": "stdout",
     "output_type": "stream",
     "text": [
      "Original list: range(0, 11)\n",
      "Square rooted: [0, 1, 4, 9, 16, 25, 36, 49, 64, 81, 100]\n"
     ]
    }
   ],
   "source": [
    "import math\n",
    "nums_list=range(0,11)\n",
    "print(\"Original list: {}\".format(nums_list))\n",
    "def square_nums(nums_list):\n",
    "    my_squared_list=[ i*i for i in nums_list]\n",
    "    return my_squared_list\n",
    "\n",
    "x=square_nums(nums_list)  \n",
    "print(\"Square rooted: {}\".format(x))\n",
    "\n"
   ]
  }
 ],
 "metadata": {
  "celltoolbar": "Slideshow",
  "kernelspec": {
   "display_name": "Python 3",
   "language": "python",
   "name": "python3"
  },
  "language_info": {
   "codemirror_mode": {
    "name": "ipython",
    "version": 3
   },
   "file_extension": ".py",
   "mimetype": "text/x-python",
   "name": "python",
   "nbconvert_exporter": "python",
   "pygments_lexer": "ipython3",
   "version": "3.6.8"
  }
 },
 "nbformat": 4,
 "nbformat_minor": 1
}
